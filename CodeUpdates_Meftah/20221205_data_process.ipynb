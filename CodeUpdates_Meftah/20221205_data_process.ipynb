{
  "nbformat": 4,
  "nbformat_minor": 0,
  "metadata": {
    "colab": {
      "provenance": []
    },
    "kernelspec": {
      "name": "python3",
      "display_name": "Python 3"
    },
    "language_info": {
      "name": "python"
    },
    "gpuClass": "standard"
  },
  "cells": [
    {
      "cell_type": "code",
      "execution_count": 1,
      "metadata": {
        "id": "mcLb9nn39zvT"
      },
      "outputs": [],
      "source": [
        "from google.colab import files\n",
        "!cp /content/drive/MyDrive/PYTHON_PRACTICE/Data_preprocessing/enviro.csv /content"
      ]
    },
    {
      "cell_type": "code",
      "source": [
        "import numpy as np\n",
        "import pandas as pd\n",
        "import matplotlib.pyplot as plt"
      ],
      "metadata": {
        "id": "pjMGkIYT-w-3"
      },
      "execution_count": 2,
      "outputs": []
    },
    {
      "cell_type": "code",
      "source": [
        "df = pd.read_csv('enviro.csv')\n",
        "df = df.iloc[125:1225,:12]\n",
        "df.describe()"
      ],
      "metadata": {
        "colab": {
          "base_uri": "https://localhost:8080/",
          "height": 271
        },
        "id": "HrpzUMCx_bub",
        "outputId": "5656686a-dbd1-41ef-e754-5362d347dfc5"
      },
      "execution_count": 3,
      "outputs": [
        {
          "output_type": "execute_result",
          "data": {
            "text/plain": [
              "       FORMATTED DATE_TIME Temperature Wet Bulb Temp Relative Humidity  \\\n",
              "count                 1100        1100          1100              1100   \n",
              "unique                1100          22            45               225   \n",
              "top         10/26/22 18:50        22.2            12                33   \n",
              "freq                     1         199            67                24   \n",
              "\n",
              "       Barometric Pressure Altitude Station Pressure Wind Speed Heat Index  \\\n",
              "count                 1100     1100             1100       1100       1100   \n",
              "unique                 101      140              164          1         26   \n",
              "top                    994      173            994.1          0       20.8   \n",
              "freq                    40       48               26       1100        133   \n",
              "\n",
              "       Dew Point Density Altitude Wind Chill  \n",
              "count       1100             1100       1100  \n",
              "unique        99              189         21  \n",
              "top          4.1              511       22.2  \n",
              "freq          43               27        161  "
            ],
            "text/html": [
              "\n",
              "  <div id=\"df-f7c2f453-8351-40cc-a7df-878b3e38bc97\">\n",
              "    <div class=\"colab-df-container\">\n",
              "      <div>\n",
              "<style scoped>\n",
              "    .dataframe tbody tr th:only-of-type {\n",
              "        vertical-align: middle;\n",
              "    }\n",
              "\n",
              "    .dataframe tbody tr th {\n",
              "        vertical-align: top;\n",
              "    }\n",
              "\n",
              "    .dataframe thead th {\n",
              "        text-align: right;\n",
              "    }\n",
              "</style>\n",
              "<table border=\"1\" class=\"dataframe\">\n",
              "  <thead>\n",
              "    <tr style=\"text-align: right;\">\n",
              "      <th></th>\n",
              "      <th>FORMATTED DATE_TIME</th>\n",
              "      <th>Temperature</th>\n",
              "      <th>Wet Bulb Temp</th>\n",
              "      <th>Relative Humidity</th>\n",
              "      <th>Barometric Pressure</th>\n",
              "      <th>Altitude</th>\n",
              "      <th>Station Pressure</th>\n",
              "      <th>Wind Speed</th>\n",
              "      <th>Heat Index</th>\n",
              "      <th>Dew Point</th>\n",
              "      <th>Density Altitude</th>\n",
              "      <th>Wind Chill</th>\n",
              "    </tr>\n",
              "  </thead>\n",
              "  <tbody>\n",
              "    <tr>\n",
              "      <th>count</th>\n",
              "      <td>1100</td>\n",
              "      <td>1100</td>\n",
              "      <td>1100</td>\n",
              "      <td>1100</td>\n",
              "      <td>1100</td>\n",
              "      <td>1100</td>\n",
              "      <td>1100</td>\n",
              "      <td>1100</td>\n",
              "      <td>1100</td>\n",
              "      <td>1100</td>\n",
              "      <td>1100</td>\n",
              "      <td>1100</td>\n",
              "    </tr>\n",
              "    <tr>\n",
              "      <th>unique</th>\n",
              "      <td>1100</td>\n",
              "      <td>22</td>\n",
              "      <td>45</td>\n",
              "      <td>225</td>\n",
              "      <td>101</td>\n",
              "      <td>140</td>\n",
              "      <td>164</td>\n",
              "      <td>1</td>\n",
              "      <td>26</td>\n",
              "      <td>99</td>\n",
              "      <td>189</td>\n",
              "      <td>21</td>\n",
              "    </tr>\n",
              "    <tr>\n",
              "      <th>top</th>\n",
              "      <td>10/26/22 18:50</td>\n",
              "      <td>22.2</td>\n",
              "      <td>12</td>\n",
              "      <td>33</td>\n",
              "      <td>994</td>\n",
              "      <td>173</td>\n",
              "      <td>994.1</td>\n",
              "      <td>0</td>\n",
              "      <td>20.8</td>\n",
              "      <td>4.1</td>\n",
              "      <td>511</td>\n",
              "      <td>22.2</td>\n",
              "    </tr>\n",
              "    <tr>\n",
              "      <th>freq</th>\n",
              "      <td>1</td>\n",
              "      <td>199</td>\n",
              "      <td>67</td>\n",
              "      <td>24</td>\n",
              "      <td>40</td>\n",
              "      <td>48</td>\n",
              "      <td>26</td>\n",
              "      <td>1100</td>\n",
              "      <td>133</td>\n",
              "      <td>43</td>\n",
              "      <td>27</td>\n",
              "      <td>161</td>\n",
              "    </tr>\n",
              "  </tbody>\n",
              "</table>\n",
              "</div>\n",
              "      <button class=\"colab-df-convert\" onclick=\"convertToInteractive('df-f7c2f453-8351-40cc-a7df-878b3e38bc97')\"\n",
              "              title=\"Convert this dataframe to an interactive table.\"\n",
              "              style=\"display:none;\">\n",
              "        \n",
              "  <svg xmlns=\"http://www.w3.org/2000/svg\" height=\"24px\"viewBox=\"0 0 24 24\"\n",
              "       width=\"24px\">\n",
              "    <path d=\"M0 0h24v24H0V0z\" fill=\"none\"/>\n",
              "    <path d=\"M18.56 5.44l.94 2.06.94-2.06 2.06-.94-2.06-.94-.94-2.06-.94 2.06-2.06.94zm-11 1L8.5 8.5l.94-2.06 2.06-.94-2.06-.94L8.5 2.5l-.94 2.06-2.06.94zm10 10l.94 2.06.94-2.06 2.06-.94-2.06-.94-.94-2.06-.94 2.06-2.06.94z\"/><path d=\"M17.41 7.96l-1.37-1.37c-.4-.4-.92-.59-1.43-.59-.52 0-1.04.2-1.43.59L10.3 9.45l-7.72 7.72c-.78.78-.78 2.05 0 2.83L4 21.41c.39.39.9.59 1.41.59.51 0 1.02-.2 1.41-.59l7.78-7.78 2.81-2.81c.8-.78.8-2.07 0-2.86zM5.41 20L4 18.59l7.72-7.72 1.47 1.35L5.41 20z\"/>\n",
              "  </svg>\n",
              "      </button>\n",
              "      \n",
              "  <style>\n",
              "    .colab-df-container {\n",
              "      display:flex;\n",
              "      flex-wrap:wrap;\n",
              "      gap: 12px;\n",
              "    }\n",
              "\n",
              "    .colab-df-convert {\n",
              "      background-color: #E8F0FE;\n",
              "      border: none;\n",
              "      border-radius: 50%;\n",
              "      cursor: pointer;\n",
              "      display: none;\n",
              "      fill: #1967D2;\n",
              "      height: 32px;\n",
              "      padding: 0 0 0 0;\n",
              "      width: 32px;\n",
              "    }\n",
              "\n",
              "    .colab-df-convert:hover {\n",
              "      background-color: #E2EBFA;\n",
              "      box-shadow: 0px 1px 2px rgba(60, 64, 67, 0.3), 0px 1px 3px 1px rgba(60, 64, 67, 0.15);\n",
              "      fill: #174EA6;\n",
              "    }\n",
              "\n",
              "    [theme=dark] .colab-df-convert {\n",
              "      background-color: #3B4455;\n",
              "      fill: #D2E3FC;\n",
              "    }\n",
              "\n",
              "    [theme=dark] .colab-df-convert:hover {\n",
              "      background-color: #434B5C;\n",
              "      box-shadow: 0px 1px 3px 1px rgba(0, 0, 0, 0.15);\n",
              "      filter: drop-shadow(0px 1px 2px rgba(0, 0, 0, 0.3));\n",
              "      fill: #FFFFFF;\n",
              "    }\n",
              "  </style>\n",
              "\n",
              "      <script>\n",
              "        const buttonEl =\n",
              "          document.querySelector('#df-f7c2f453-8351-40cc-a7df-878b3e38bc97 button.colab-df-convert');\n",
              "        buttonEl.style.display =\n",
              "          google.colab.kernel.accessAllowed ? 'block' : 'none';\n",
              "\n",
              "        async function convertToInteractive(key) {\n",
              "          const element = document.querySelector('#df-f7c2f453-8351-40cc-a7df-878b3e38bc97');\n",
              "          const dataTable =\n",
              "            await google.colab.kernel.invokeFunction('convertToInteractive',\n",
              "                                                     [key], {});\n",
              "          if (!dataTable) return;\n",
              "\n",
              "          const docLinkHtml = 'Like what you see? Visit the ' +\n",
              "            '<a target=\"_blank\" href=https://colab.research.google.com/notebooks/data_table.ipynb>data table notebook</a>'\n",
              "            + ' to learn more about interactive tables.';\n",
              "          element.innerHTML = '';\n",
              "          dataTable['output_type'] = 'display_data';\n",
              "          await google.colab.output.renderOutput(dataTable, element);\n",
              "          const docLink = document.createElement('div');\n",
              "          docLink.innerHTML = docLinkHtml;\n",
              "          element.appendChild(docLink);\n",
              "        }\n",
              "      </script>\n",
              "    </div>\n",
              "  </div>\n",
              "  "
            ]
          },
          "metadata": {},
          "execution_count": 3
        }
      ]
    },
    {
      "cell_type": "code",
      "source": [
        "df.drop(['Wet Bulb Temp', 'Barometric Pressure','Altitude','Wind Speed','Heat Index','Wind Chill'], axis =1, inplace=True)\n",
        "df.head(3)"
      ],
      "metadata": {
        "colab": {
          "base_uri": "https://localhost:8080/",
          "height": 143
        },
        "id": "N4zGXj-6t9TD",
        "outputId": "5a699159-b253-45eb-93a0-6cecb51eb81d"
      },
      "execution_count": 4,
      "outputs": [
        {
          "output_type": "execute_result",
          "data": {
            "text/plain": [
              "    FORMATTED DATE_TIME Temperature Relative Humidity Station Pressure  \\\n",
              "125      10/26/22 18:50        21.8              27.9            991.8   \n",
              "126      10/26/22 19:00        21.7              28.1            991.9   \n",
              "127      10/26/22 19:10        21.7              28.2            992.1   \n",
              "\n",
              "    Dew Point Density Altitude  \n",
              "125       2.5              493  \n",
              "126       2.5              488  \n",
              "127       2.5              484  "
            ],
            "text/html": [
              "\n",
              "  <div id=\"df-720160d8-7753-4d13-92dd-3bf931236dbb\">\n",
              "    <div class=\"colab-df-container\">\n",
              "      <div>\n",
              "<style scoped>\n",
              "    .dataframe tbody tr th:only-of-type {\n",
              "        vertical-align: middle;\n",
              "    }\n",
              "\n",
              "    .dataframe tbody tr th {\n",
              "        vertical-align: top;\n",
              "    }\n",
              "\n",
              "    .dataframe thead th {\n",
              "        text-align: right;\n",
              "    }\n",
              "</style>\n",
              "<table border=\"1\" class=\"dataframe\">\n",
              "  <thead>\n",
              "    <tr style=\"text-align: right;\">\n",
              "      <th></th>\n",
              "      <th>FORMATTED DATE_TIME</th>\n",
              "      <th>Temperature</th>\n",
              "      <th>Relative Humidity</th>\n",
              "      <th>Station Pressure</th>\n",
              "      <th>Dew Point</th>\n",
              "      <th>Density Altitude</th>\n",
              "    </tr>\n",
              "  </thead>\n",
              "  <tbody>\n",
              "    <tr>\n",
              "      <th>125</th>\n",
              "      <td>10/26/22 18:50</td>\n",
              "      <td>21.8</td>\n",
              "      <td>27.9</td>\n",
              "      <td>991.8</td>\n",
              "      <td>2.5</td>\n",
              "      <td>493</td>\n",
              "    </tr>\n",
              "    <tr>\n",
              "      <th>126</th>\n",
              "      <td>10/26/22 19:00</td>\n",
              "      <td>21.7</td>\n",
              "      <td>28.1</td>\n",
              "      <td>991.9</td>\n",
              "      <td>2.5</td>\n",
              "      <td>488</td>\n",
              "    </tr>\n",
              "    <tr>\n",
              "      <th>127</th>\n",
              "      <td>10/26/22 19:10</td>\n",
              "      <td>21.7</td>\n",
              "      <td>28.2</td>\n",
              "      <td>992.1</td>\n",
              "      <td>2.5</td>\n",
              "      <td>484</td>\n",
              "    </tr>\n",
              "  </tbody>\n",
              "</table>\n",
              "</div>\n",
              "      <button class=\"colab-df-convert\" onclick=\"convertToInteractive('df-720160d8-7753-4d13-92dd-3bf931236dbb')\"\n",
              "              title=\"Convert this dataframe to an interactive table.\"\n",
              "              style=\"display:none;\">\n",
              "        \n",
              "  <svg xmlns=\"http://www.w3.org/2000/svg\" height=\"24px\"viewBox=\"0 0 24 24\"\n",
              "       width=\"24px\">\n",
              "    <path d=\"M0 0h24v24H0V0z\" fill=\"none\"/>\n",
              "    <path d=\"M18.56 5.44l.94 2.06.94-2.06 2.06-.94-2.06-.94-.94-2.06-.94 2.06-2.06.94zm-11 1L8.5 8.5l.94-2.06 2.06-.94-2.06-.94L8.5 2.5l-.94 2.06-2.06.94zm10 10l.94 2.06.94-2.06 2.06-.94-2.06-.94-.94-2.06-.94 2.06-2.06.94z\"/><path d=\"M17.41 7.96l-1.37-1.37c-.4-.4-.92-.59-1.43-.59-.52 0-1.04.2-1.43.59L10.3 9.45l-7.72 7.72c-.78.78-.78 2.05 0 2.83L4 21.41c.39.39.9.59 1.41.59.51 0 1.02-.2 1.41-.59l7.78-7.78 2.81-2.81c.8-.78.8-2.07 0-2.86zM5.41 20L4 18.59l7.72-7.72 1.47 1.35L5.41 20z\"/>\n",
              "  </svg>\n",
              "      </button>\n",
              "      \n",
              "  <style>\n",
              "    .colab-df-container {\n",
              "      display:flex;\n",
              "      flex-wrap:wrap;\n",
              "      gap: 12px;\n",
              "    }\n",
              "\n",
              "    .colab-df-convert {\n",
              "      background-color: #E8F0FE;\n",
              "      border: none;\n",
              "      border-radius: 50%;\n",
              "      cursor: pointer;\n",
              "      display: none;\n",
              "      fill: #1967D2;\n",
              "      height: 32px;\n",
              "      padding: 0 0 0 0;\n",
              "      width: 32px;\n",
              "    }\n",
              "\n",
              "    .colab-df-convert:hover {\n",
              "      background-color: #E2EBFA;\n",
              "      box-shadow: 0px 1px 2px rgba(60, 64, 67, 0.3), 0px 1px 3px 1px rgba(60, 64, 67, 0.15);\n",
              "      fill: #174EA6;\n",
              "    }\n",
              "\n",
              "    [theme=dark] .colab-df-convert {\n",
              "      background-color: #3B4455;\n",
              "      fill: #D2E3FC;\n",
              "    }\n",
              "\n",
              "    [theme=dark] .colab-df-convert:hover {\n",
              "      background-color: #434B5C;\n",
              "      box-shadow: 0px 1px 3px 1px rgba(0, 0, 0, 0.15);\n",
              "      filter: drop-shadow(0px 1px 2px rgba(0, 0, 0, 0.3));\n",
              "      fill: #FFFFFF;\n",
              "    }\n",
              "  </style>\n",
              "\n",
              "      <script>\n",
              "        const buttonEl =\n",
              "          document.querySelector('#df-720160d8-7753-4d13-92dd-3bf931236dbb button.colab-df-convert');\n",
              "        buttonEl.style.display =\n",
              "          google.colab.kernel.accessAllowed ? 'block' : 'none';\n",
              "\n",
              "        async function convertToInteractive(key) {\n",
              "          const element = document.querySelector('#df-720160d8-7753-4d13-92dd-3bf931236dbb');\n",
              "          const dataTable =\n",
              "            await google.colab.kernel.invokeFunction('convertToInteractive',\n",
              "                                                     [key], {});\n",
              "          if (!dataTable) return;\n",
              "\n",
              "          const docLinkHtml = 'Like what you see? Visit the ' +\n",
              "            '<a target=\"_blank\" href=https://colab.research.google.com/notebooks/data_table.ipynb>data table notebook</a>'\n",
              "            + ' to learn more about interactive tables.';\n",
              "          element.innerHTML = '';\n",
              "          dataTable['output_type'] = 'display_data';\n",
              "          await google.colab.output.renderOutput(dataTable, element);\n",
              "          const docLink = document.createElement('div');\n",
              "          docLink.innerHTML = docLinkHtml;\n",
              "          element.appendChild(docLink);\n",
              "        }\n",
              "      </script>\n",
              "    </div>\n",
              "  </div>\n",
              "  "
            ]
          },
          "metadata": {},
          "execution_count": 4
        }
      ]
    },
    {
      "cell_type": "code",
      "source": [
        "df['Station Pressure'] = df['Station Pressure'].str.replace('--', '') ##Replacing sparce string\n",
        "\n",
        "df['Temperature'] = pd.to_numeric(df['Temperature'])\n",
        "df['Relative Humidity'] = pd.to_numeric(df['Relative Humidity'])\n",
        "df['Station Pressure'] = pd.to_numeric(df['Station Pressure'])\n",
        "df['Dew Point'] = pd.to_numeric(df['Dew Point'])\n",
        "\n",
        "print(df.isnull().sum().sum())\n"
      ],
      "metadata": {
        "id": "TErEzF5Q_eAa",
        "colab": {
          "base_uri": "https://localhost:8080/"
        },
        "outputId": "37b7262b-4219-4316-a077-95b70916666a"
      },
      "execution_count": 5,
      "outputs": [
        {
          "output_type": "stream",
          "name": "stdout",
          "text": [
            "2\n"
          ]
        }
      ]
    },
    {
      "cell_type": "code",
      "source": [
        "df = df.interpolate()"
      ],
      "metadata": {
        "id": "Th0GsuJVv1NG"
      },
      "execution_count": 6,
      "outputs": []
    },
    {
      "cell_type": "code",
      "source": [
        "df.loc[df['Temperature'] < 21.0, 'Temp Level'] = -2 #'too cold' \n",
        "df.loc[(df['Temperature'] >= 21.0) & (df['Temperature'] <21.5), 'Temp Level'] = -1 #'cold'\n",
        "df.loc[(df['Temperature'] >= 21.5) & (df['Temperature'] <22), 'Temp Level'] = 0 #'moderate'\n",
        "df.loc[(df['Temperature'] >= 22) & (df['Temperature'] <22.5), 'Temp Level'] = 1 #'hot'\n",
        "df.loc[df['Temperature'] >= 22.5, 'Temp Level'] = 2 #'too hot'\n",
        "df.head(3)"
      ],
      "metadata": {
        "colab": {
          "base_uri": "https://localhost:8080/",
          "height": 143
        },
        "id": "Fa1cILW7cXMv",
        "outputId": "3dd28b8b-88b6-4646-c933-dd7af503c878"
      },
      "execution_count": 7,
      "outputs": [
        {
          "output_type": "execute_result",
          "data": {
            "text/plain": [
              "    FORMATTED DATE_TIME  Temperature  Relative Humidity  Station Pressure  \\\n",
              "125      10/26/22 18:50         21.8               27.9             991.8   \n",
              "126      10/26/22 19:00         21.7               28.1             991.9   \n",
              "127      10/26/22 19:10         21.7               28.2             992.1   \n",
              "\n",
              "     Dew Point Density Altitude  Temp Level  \n",
              "125        2.5              493         0.0  \n",
              "126        2.5              488         0.0  \n",
              "127        2.5              484         0.0  "
            ],
            "text/html": [
              "\n",
              "  <div id=\"df-9a80544e-d89c-4528-83cb-9562e9a9d256\">\n",
              "    <div class=\"colab-df-container\">\n",
              "      <div>\n",
              "<style scoped>\n",
              "    .dataframe tbody tr th:only-of-type {\n",
              "        vertical-align: middle;\n",
              "    }\n",
              "\n",
              "    .dataframe tbody tr th {\n",
              "        vertical-align: top;\n",
              "    }\n",
              "\n",
              "    .dataframe thead th {\n",
              "        text-align: right;\n",
              "    }\n",
              "</style>\n",
              "<table border=\"1\" class=\"dataframe\">\n",
              "  <thead>\n",
              "    <tr style=\"text-align: right;\">\n",
              "      <th></th>\n",
              "      <th>FORMATTED DATE_TIME</th>\n",
              "      <th>Temperature</th>\n",
              "      <th>Relative Humidity</th>\n",
              "      <th>Station Pressure</th>\n",
              "      <th>Dew Point</th>\n",
              "      <th>Density Altitude</th>\n",
              "      <th>Temp Level</th>\n",
              "    </tr>\n",
              "  </thead>\n",
              "  <tbody>\n",
              "    <tr>\n",
              "      <th>125</th>\n",
              "      <td>10/26/22 18:50</td>\n",
              "      <td>21.8</td>\n",
              "      <td>27.9</td>\n",
              "      <td>991.8</td>\n",
              "      <td>2.5</td>\n",
              "      <td>493</td>\n",
              "      <td>0.0</td>\n",
              "    </tr>\n",
              "    <tr>\n",
              "      <th>126</th>\n",
              "      <td>10/26/22 19:00</td>\n",
              "      <td>21.7</td>\n",
              "      <td>28.1</td>\n",
              "      <td>991.9</td>\n",
              "      <td>2.5</td>\n",
              "      <td>488</td>\n",
              "      <td>0.0</td>\n",
              "    </tr>\n",
              "    <tr>\n",
              "      <th>127</th>\n",
              "      <td>10/26/22 19:10</td>\n",
              "      <td>21.7</td>\n",
              "      <td>28.2</td>\n",
              "      <td>992.1</td>\n",
              "      <td>2.5</td>\n",
              "      <td>484</td>\n",
              "      <td>0.0</td>\n",
              "    </tr>\n",
              "  </tbody>\n",
              "</table>\n",
              "</div>\n",
              "      <button class=\"colab-df-convert\" onclick=\"convertToInteractive('df-9a80544e-d89c-4528-83cb-9562e9a9d256')\"\n",
              "              title=\"Convert this dataframe to an interactive table.\"\n",
              "              style=\"display:none;\">\n",
              "        \n",
              "  <svg xmlns=\"http://www.w3.org/2000/svg\" height=\"24px\"viewBox=\"0 0 24 24\"\n",
              "       width=\"24px\">\n",
              "    <path d=\"M0 0h24v24H0V0z\" fill=\"none\"/>\n",
              "    <path d=\"M18.56 5.44l.94 2.06.94-2.06 2.06-.94-2.06-.94-.94-2.06-.94 2.06-2.06.94zm-11 1L8.5 8.5l.94-2.06 2.06-.94-2.06-.94L8.5 2.5l-.94 2.06-2.06.94zm10 10l.94 2.06.94-2.06 2.06-.94-2.06-.94-.94-2.06-.94 2.06-2.06.94z\"/><path d=\"M17.41 7.96l-1.37-1.37c-.4-.4-.92-.59-1.43-.59-.52 0-1.04.2-1.43.59L10.3 9.45l-7.72 7.72c-.78.78-.78 2.05 0 2.83L4 21.41c.39.39.9.59 1.41.59.51 0 1.02-.2 1.41-.59l7.78-7.78 2.81-2.81c.8-.78.8-2.07 0-2.86zM5.41 20L4 18.59l7.72-7.72 1.47 1.35L5.41 20z\"/>\n",
              "  </svg>\n",
              "      </button>\n",
              "      \n",
              "  <style>\n",
              "    .colab-df-container {\n",
              "      display:flex;\n",
              "      flex-wrap:wrap;\n",
              "      gap: 12px;\n",
              "    }\n",
              "\n",
              "    .colab-df-convert {\n",
              "      background-color: #E8F0FE;\n",
              "      border: none;\n",
              "      border-radius: 50%;\n",
              "      cursor: pointer;\n",
              "      display: none;\n",
              "      fill: #1967D2;\n",
              "      height: 32px;\n",
              "      padding: 0 0 0 0;\n",
              "      width: 32px;\n",
              "    }\n",
              "\n",
              "    .colab-df-convert:hover {\n",
              "      background-color: #E2EBFA;\n",
              "      box-shadow: 0px 1px 2px rgba(60, 64, 67, 0.3), 0px 1px 3px 1px rgba(60, 64, 67, 0.15);\n",
              "      fill: #174EA6;\n",
              "    }\n",
              "\n",
              "    [theme=dark] .colab-df-convert {\n",
              "      background-color: #3B4455;\n",
              "      fill: #D2E3FC;\n",
              "    }\n",
              "\n",
              "    [theme=dark] .colab-df-convert:hover {\n",
              "      background-color: #434B5C;\n",
              "      box-shadow: 0px 1px 3px 1px rgba(0, 0, 0, 0.15);\n",
              "      filter: drop-shadow(0px 1px 2px rgba(0, 0, 0, 0.3));\n",
              "      fill: #FFFFFF;\n",
              "    }\n",
              "  </style>\n",
              "\n",
              "      <script>\n",
              "        const buttonEl =\n",
              "          document.querySelector('#df-9a80544e-d89c-4528-83cb-9562e9a9d256 button.colab-df-convert');\n",
              "        buttonEl.style.display =\n",
              "          google.colab.kernel.accessAllowed ? 'block' : 'none';\n",
              "\n",
              "        async function convertToInteractive(key) {\n",
              "          const element = document.querySelector('#df-9a80544e-d89c-4528-83cb-9562e9a9d256');\n",
              "          const dataTable =\n",
              "            await google.colab.kernel.invokeFunction('convertToInteractive',\n",
              "                                                     [key], {});\n",
              "          if (!dataTable) return;\n",
              "\n",
              "          const docLinkHtml = 'Like what you see? Visit the ' +\n",
              "            '<a target=\"_blank\" href=https://colab.research.google.com/notebooks/data_table.ipynb>data table notebook</a>'\n",
              "            + ' to learn more about interactive tables.';\n",
              "          element.innerHTML = '';\n",
              "          dataTable['output_type'] = 'display_data';\n",
              "          await google.colab.output.renderOutput(dataTable, element);\n",
              "          const docLink = document.createElement('div');\n",
              "          docLink.innerHTML = docLinkHtml;\n",
              "          element.appendChild(docLink);\n",
              "        }\n",
              "      </script>\n",
              "    </div>\n",
              "  </div>\n",
              "  "
            ]
          },
          "metadata": {},
          "execution_count": 7
        }
      ]
    },
    {
      "cell_type": "code",
      "source": [
        "# plt.plot(df['Temperature'], color='blue')\n",
        "plt.plot(df['Dew Point'], color='blue')\n",
        "plt.plot(df['Temp Level'])\n",
        "# plt.plot(df['Relative Humidity'], color='red')\n",
        "# plt.plot(df['Station Pressure'], color='black')"
      ],
      "metadata": {
        "colab": {
          "base_uri": "https://localhost:8080/",
          "height": 283
        },
        "id": "YHrq6cPpXAtN",
        "outputId": "a732f1f5-2aa2-4e49-9dec-ff63290b4c39"
      },
      "execution_count": 8,
      "outputs": [
        {
          "output_type": "execute_result",
          "data": {
            "text/plain": [
              "[<matplotlib.lines.Line2D at 0x7f48d8c3c9d0>]"
            ]
          },
          "metadata": {},
          "execution_count": 8
        },
        {
          "output_type": "display_data",
          "data": {
            "text/plain": [
              "<Figure size 432x288 with 1 Axes>"
            ],
            "image/png": "[encoded data removed]"
          },
          "metadata": {
            "needs_background": "light"
          }
        }
      ]
    },
    {
      "cell_type": "code",
      "source": [
        "from sklearn.model_selection import train_test_split\n",
        "from sklearn.utils.fixes import sklearn"
      ],
      "metadata": {
        "id": "xeS02JGNkGpT"
      },
      "execution_count": 9,
      "outputs": []
    },
    {
      "cell_type": "code",
      "source": [
        "X = df[['Relative Humidity','Station Pressure']]\n",
        "y = df['Temp Level']\n",
        "\n",
        "X_train, X_test, y_train, y_test = train_test_split(X,y, test_size= 0.2)"
      ],
      "metadata": {
        "id": "fzi5n6bp0JQW"
      },
      "execution_count": 10,
      "outputs": []
    },
    {
      "cell_type": "code",
      "source": [
        "# from sklearn import svm\n",
        "# model = svm.SVC(kernel='rbf', gamma=1) \n",
        "# model.fit(X_train, y_train)\n",
        "# print(model.score(X_test,y_test))"
      ],
      "metadata": {
        "id": "t4dgcVUl0V2F"
      },
      "execution_count": 11,
      "outputs": []
    },
    {
      "cell_type": "code",
      "source": [
        "# from sklearn.neighbors import KNeighborsClassifier   \n",
        "# # KNN algorith to predict test set results\n",
        "# classifier = KNeighborsClassifier(n_neighbors = 5, p = 2)\n",
        "# # p = output, here have diabetic or not. two outcomes\n",
        "# classifier.fit(X_train, y_train)\n",
        "# predictions = classifier.predict(X_test)\n",
        "# print(classifier.score(X_test,y_test))\n",
        "# # print('\\n')\n",
        "# # print(y_test)\n",
        "# print(predictions)"
      ],
      "metadata": {
        "id": "FykdkR042KkY"
      },
      "execution_count": 12,
      "outputs": []
    },
    {
      "cell_type": "code",
      "source": [
        "from sklearn.neural_network import MLPClassifier\n",
        "from sklearn.neighbors import KNeighborsClassifier\n",
        "from sklearn.svm import SVC\n",
        "from sklearn.gaussian_process import GaussianProcessClassifier\n",
        "from sklearn.ensemble import GradientBoostingClassifier\n",
        "from sklearn.gaussian_process.kernels import RBF\n",
        "from sklearn.tree import DecisionTreeClassifier\n",
        "from sklearn.ensemble import ExtraTreesClassifier\n",
        "from sklearn.ensemble import RandomForestClassifier, AdaBoostClassifier\n",
        "from sklearn.naive_bayes import GaussianNB\n",
        "from sklearn.discriminant_analysis import QuadraticDiscriminantAnalysis\n",
        "from sklearn.linear_model import SGDClassifier"
      ],
      "metadata": {
        "id": "L-480pdYfEfp"
      },
      "execution_count": 13,
      "outputs": []
    },
    {
      "cell_type": "code",
      "source": [
        "names = [\"Nearest_Neighbors\", \"Linear_SVM\", \"Polynomial_SVM\", \"RBF_SVM\", \"Gaussian_Process\",\n",
        "         \"Gradient_Boosting\", \"Decision_Tree\", \"Extra_Trees\", \"Random_Forest\", \"Neural_Net\", \"AdaBoost\",\n",
        "         \"Naive_Bayes\", \"QDA\", \"SGD\"]\n",
        "\n",
        "classifiers = [\n",
        "    KNeighborsClassifier(3),\n",
        "    SVC(kernel=\"linear\"),\n",
        "    SVC(kernel=\"poly\", degree=3, C=1),\n",
        "    SVC(kernel=\"rbf\", C=1, gamma=1),\n",
        "    GaussianProcessClassifier(1.0 * RBF(1.0)),\n",
        "    GradientBoostingClassifier(n_estimators=100, learning_rate=1.0),\n",
        "    DecisionTreeClassifier(max_depth=5),\n",
        "    ExtraTreesClassifier(n_estimators=10, min_samples_split=2),\n",
        "    RandomForestClassifier(max_depth=5, n_estimators=100),\n",
        "    MLPClassifier(alpha=1, max_iter=1000),\n",
        "    AdaBoostClassifier(n_estimators=100),\n",
        "    GaussianNB(),\n",
        "    QuadraticDiscriminantAnalysis(),\n",
        "    SGDClassifier(loss=\"hinge\", penalty=\"l2\")]"
      ],
      "metadata": {
        "id": "Au9Mh-sYuTNi"
      },
      "execution_count": 14,
      "outputs": []
    },
    {
      "cell_type": "code",
      "source": [
        "scores = []\n",
        "for name, clf in zip(names, classifiers):\n",
        "    clf.fit(X_train, y_train)\n",
        "    score = clf.score(X_test, y_test)\n",
        "    scores.append(score)"
      ],
      "metadata": {
        "id": "mlXE1K_GulwM"
      },
      "execution_count": null,
      "outputs": []
    },
    {
      "cell_type": "code",
      "source": [
        "df2 = pd.DataFrame()\n",
        "df2['name'] = names\n",
        "df2['score'] = scores"
      ],
      "metadata": {
        "id": "vBsoSVikurWm"
      },
      "execution_count": null,
      "outputs": []
    },
    {
      "cell_type": "code",
      "source": [
        "import seaborn as sns\n",
        "#https://pandas.pydata.org/pandas-docs/stable/user_guide/style.html\n",
        "cm = sns.light_palette(\"green\", as_cmap=True)\n",
        "s = df2.style.background_gradient(cmap=cm)\n",
        "s"
      ],
      "metadata": {
        "id": "6j5eTII-vSVx"
      },
      "execution_count": null,
      "outputs": []
    },
    {
      "cell_type": "code",
      "source": [
        "sns.set(style=\"whitegrid\")\n",
        "ax = sns.barplot(y=\"name\", x=\"score\", data=df2)"
      ],
      "metadata": {
        "id": "M3r4SntcxXW5"
      },
      "execution_count": null,
      "outputs": []
    },
    {
      "cell_type": "code",
      "source": [],
      "metadata": {
        "id": "otCnQBcUxkdl"
      },
      "execution_count": null,
      "outputs": []
    }
  ]
}