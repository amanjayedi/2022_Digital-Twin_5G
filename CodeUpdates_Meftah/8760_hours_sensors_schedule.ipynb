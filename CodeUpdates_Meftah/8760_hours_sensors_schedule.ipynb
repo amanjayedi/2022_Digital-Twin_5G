{
  "nbformat": 4,
  "nbformat_minor": 0,
  "metadata": {
    "colab": {
      "provenance": []
    },
    "kernelspec": {
      "name": "python3",
      "display_name": "Python 3"
    },
    "language_info": {
      "name": "python"
    }
  },
  "cells": [
    {
      "cell_type": "code",
      "execution_count": 94,
      "metadata": {
        "id": "DAt5vTzwKPQO"
      },
      "outputs": [],
      "source": [
        "import pandas as pd\n",
        "import numpy as np\n",
        "from datetime import datetime, timedelta\n",
        "import calendar\n",
        "import random"
      ]
    },
    {
      "cell_type": "markdown",
      "source": [
        "**Creating 365 days datetime**"
      ],
      "metadata": {
        "id": "wmVq1B3MNchT"
      }
    },
    {
      "cell_type": "code",
      "source": [
        "dates = pd.date_range('2022-01-01', '2022-12-31', freq='D')\n",
        "drange = range(len(dates))\n",
        "#Converting to series for getting weekdays name\n",
        "s = dates.to_series(index=drange)\n",
        "# dayofyear = s.dt.datetime\n",
        "y_day = list(dates)\n",
        "\n",
        "weekdays = s.dt.day_name()\n",
        "w_day = list(weekdays)\n"
      ],
      "metadata": {
        "id": "DDOc0_NoKRcB"
      },
      "execution_count": 95,
      "outputs": []
    },
    {
      "cell_type": "code",
      "source": [
        "# day_tuple = list(zip(y_day, w_day))\n",
        "# for date, weekday in day_tuple:\n",
        "#   if date < datetime(2022,1,31):\n",
        "#     if weekday == 'Saturday' or weekday == 'Monday':\n",
        "#       print(weekday)\n",
        "    "
      ],
      "metadata": {
        "id": "AHbtSb6j-mlp"
      },
      "execution_count": 96,
      "outputs": []
    },
    {
      "cell_type": "code",
      "source": [
        "day_tuple = list(zip(y_day, w_day))\n",
        "\n",
        "people = []\n",
        "hours_of_day = 24\n",
        "\n",
        "for date, weekday in day_tuple:\n",
        "\n",
        "  #Before spring semester\n",
        "  if date >= datetime(2022,1,1) and date < datetime(2022,1,17):\n",
        "    if weekday == 'Saturday' or weekday == 'Sunday':\n",
        "      for hr in range(hours_of_day):\n",
        "        people.append(0)\n",
        "    else:\n",
        "      for hr in range(hours_of_day):\n",
        "         if hr>=0 and hr<10:\n",
        "            people.append(0)\n",
        "         elif hr>=10 and hr<17:\n",
        "            people.append(random.randint(0,2))\n",
        "         else:\n",
        "            people.append(0)\n",
        "\n",
        "  #Before spring break\n",
        "  elif date >= datetime(2022,1,17) and date < datetime(2022,3,26):\n",
        "    if weekday == 'Saturday' or weekday == 'Sunday':\n",
        "      for hr in range(hours_of_day):\n",
        "        if hr<7:\n",
        "          people.append(0)\n",
        "        elif hr>=7 and hr<16:\n",
        "          people.append(random.randint(0,3))\n",
        "        else:\n",
        "          people.append(random.randint(0,9))    \n",
        "    elif weekday == 'Monday' or weekday == 'Wednesday' or weekday == 'Friday':\n",
        "      for hr in range(hours_of_day):\n",
        "        if hr>=0 and hr<7:\n",
        "            people.append(0)\n",
        "        elif hr>=7 and hr<9:\n",
        "            people.append(random.randint(0,10))\n",
        "        elif hr>=9 and hr<=13:\n",
        "            people.append(random.randint(30,32))\n",
        "        elif hr>13 and hr<=17:\n",
        "          people.append(random.randint(14,16))\n",
        "        else:\n",
        "          people.append(random.randint(0,3))\n",
        "    elif weekday == 'Tuesday':\n",
        "      for hr in range(hours_of_day):\n",
        "         if hr>=0 and hr<7:\n",
        "            people.append(0)\n",
        "         elif hr>=7 and hr<9:\n",
        "            people.append(random.randint(0,2))\n",
        "         elif hr>=9 and hr<=11:\n",
        "            people.append(5)\n",
        "         elif hr>11 and hr<=17:\n",
        "           people.append(random.randint(23,25))\n",
        "         else:\n",
        "           people.append(random.randint(0,3))\n",
        "    elif weekday == 'Thursday':\n",
        "      for hr in range(hours_of_day):\n",
        "         if hr>=0 and hr<7:\n",
        "            people.append(0)\n",
        "         elif hr>=7 and hr<9:\n",
        "            people.append(random.randint(0,5))\n",
        "         elif hr>=9 and hr<=11:\n",
        "            people.append(random.randint(52,55))\n",
        "         elif hr>13 and hr<=17:\n",
        "           people.append(random.randint(23,25))\n",
        "         else:\n",
        "           people.append(random.randint(0,5))\n",
        " \n",
        "  #Spring break\n",
        "  elif date >= datetime(2022,3,26) and date < datetime(2022,4,4):\n",
        "    for hr in range(hours_of_day):\n",
        "      people.append(0)  \n",
        "\n",
        "  #After spring break to exam class end date \n",
        "  elif date >= datetime(2022,4,4) and date< datetime(2022,5,6):\n",
        "      if weekday == 'Saturday' or weekday == 'Sunday':\n",
        "        for hr in range(hours_of_day):\n",
        "          if hr<7:\n",
        "            people.append(0)\n",
        "          elif hr>=7 and hr<16:\n",
        "            people.append(random.randint(0,3))\n",
        "          else:\n",
        "            people.append(random.randint(0,9))    \n",
        "      elif weekday == 'Monday' or weekday == 'Wednesday' or weekday == 'Friday':\n",
        "        for hr in range(hours_of_day):\n",
        "          if hr>=0 and hr<7:\n",
        "              people.append(0)\n",
        "          elif hr>=7 and hr<9:\n",
        "              people.append(random.randint(0,10))\n",
        "          elif hr>=9 and hr<=13:\n",
        "              people.append(random.randint(30,32))\n",
        "          elif hr>13 and hr<=17:\n",
        "            people.append(random.randint(14,16))\n",
        "          else:\n",
        "            people.append(random.randint(0,3))\n",
        "      elif weekday == 'Tuesday':\n",
        "        for hr in range(hours_of_day):\n",
        "          if hr>=0 and hr<6:\n",
        "              people.append(0)\n",
        "          elif hr>=6 and hr<9:\n",
        "              people.append(random.randint(0,2))\n",
        "          elif hr>=9 and hr<=11:\n",
        "              people.append(5)\n",
        "          elif hr>11 and hr<=17:\n",
        "            people.append(random.randint(23,25))\n",
        "          else:\n",
        "            people.append(random.randint(0,5))\n",
        "      else:\n",
        "        for hr in range(hours_of_day):\n",
        "          if hr>=0 and hr<6:\n",
        "              people.append(0)\n",
        "          elif hr>=6 and hr<9:\n",
        "              people.append(random.randint(0,5))\n",
        "          elif hr>=9 and hr<=11:\n",
        "              people.append(random.randint(50,55))\n",
        "          elif hr>13 and hr<=17:\n",
        "            people.append(random.randint(23,25))\n",
        "          else:\n",
        "            people.append(0)\n",
        " \n",
        "  #Spring semseter exam weeks\n",
        "  elif date >= datetime(2022,5,6) and date< datetime(2022,5,17):\n",
        "    if weekday == 'Saturday' or weekday == 'Sunday':\n",
        "      for hr in range(hours_of_day):\n",
        "        people.append(0)\n",
        "    else:\n",
        "      for hr in range(hours_of_day):\n",
        "         if hr>=0 and hr<10:\n",
        "            people.append(0)\n",
        "         elif hr>=10 and hr<17:\n",
        "            people.append(random.randint(0,5))\n",
        "         else:\n",
        "            people.append(0)\n",
        "  \n",
        "  #Summer break\n",
        "  elif date >= datetime(2022,5,17) and date < datetime(2022,8,17):\n",
        "    for hr in range(hours_of_day):\n",
        "      people.append(0)  \n",
        " \n",
        "  #Fall semseter before thanksgiving break\n",
        "  elif date >= datetime(2022,8,17) and date < datetime(2022,11,21):\n",
        "    if weekday == 'Saturday' or weekday == 'Sunday':\n",
        "      for hr in range(hours_of_day):\n",
        "        if hr<7:\n",
        "          people.append(0)\n",
        "        elif hr>=7 and hr<16:\n",
        "          people.append(random.randint(0,3))\n",
        "        else:\n",
        "          people.append(random.randint(0,9))    \n",
        "    elif weekday == 'Monday' or weekday == 'Wednesday' or weekday == 'Friday':\n",
        "      for hr in range(hours_of_day):\n",
        "        if hr>=0 and hr<7:\n",
        "            people.append(0)\n",
        "        elif hr>=7 and hr<9:\n",
        "            people.append(random.randint(5,20))\n",
        "        elif hr>=9 and hr<=12:\n",
        "            people.append(random.randint(60,62))\n",
        "        elif hr>12 and hr<=17:\n",
        "          people.append(random.randint(10,15))\n",
        "        else:\n",
        "          people.append(random.randint(0,3))\n",
        "    elif weekday == 'Tuesday'or weekday == 'Thursday':\n",
        "      for hr in range(hours_of_day):\n",
        "         if hr>=0 and hr<7:\n",
        "            people.append(0)\n",
        "         elif hr>=7 and hr<10:\n",
        "            people.append(random.randint(5,10))\n",
        "         elif hr>=10 and hr<=12:\n",
        "            people.append(random.randint(41,44))\n",
        "         elif hr>12 and hr<=15:\n",
        "           people.append(random.randint(30,35))\n",
        "         elif hr>15 and hr<=17:\n",
        "           people.append(random.randint(5,10))\n",
        "         else:\n",
        "           people.append(random.randint(0,3))\n",
        "  \n",
        "  #Thanksgiving break\n",
        "  elif date >= datetime(2022,11,21) and date < datetime(2022,11,30):\n",
        "    for hr in range(hours_of_day):\n",
        "      people.append(0)  \n",
        "\n",
        "  #Before exam week of Fall semseter\n",
        "  elif date >= datetime(2022,11,30) and date < datetime(2022,12,6):\n",
        "    if weekday == 'Saturday' or weekday == 'Sunday':\n",
        "      for hr in range(hours_of_day):\n",
        "        if hr<7:\n",
        "          people.append(0)\n",
        "        elif hr>=7 and hr<16:\n",
        "          people.append(random.randint(0,3))\n",
        "        else:\n",
        "          people.append(random.randint(0,9))    \n",
        "    elif weekday == 'Monday' or weekday == 'Wednesday' or weekday == 'Friday':\n",
        "      for hr in range(hours_of_day):\n",
        "        if hr>=0 and hr<7:\n",
        "            people.append(0)\n",
        "        elif hr>=7 and hr<9:\n",
        "            people.append(random.randint(5,20))\n",
        "        elif hr>=9 and hr<13:\n",
        "            people.append(random.randint(60,62))\n",
        "        elif hr>=13 and hr<18:\n",
        "          people.append(random.randint(10,15))\n",
        "        else:\n",
        "          people.append(random.randint(0,3))\n",
        "    elif weekday == 'Tuesday' or weekday == 'Thursday':\n",
        "      for hr in range(hours_of_day):\n",
        "         if hr>=0 and hr<7:\n",
        "            people.append(0)\n",
        "         elif hr>=7 and hr<10:\n",
        "            people.append(random.randint(5,10))\n",
        "         elif hr>=10 and hr<13:\n",
        "            people.append(random.randint(41,44))\n",
        "         elif hr>=13 and hr<16:\n",
        "           people.append(random.randint(30,35))\n",
        "         elif hr>=16 and hr<18:\n",
        "           people.append(random.randint(5,10))\n",
        "         else:\n",
        "           people.append(random.randint(0,3))    \n",
        "\n",
        "  #Fall semseter exam weeks\n",
        "  elif date >= datetime(2022,12,6) and date< datetime(2022,12,17):\n",
        "    if weekday == 'Saturday' or weekday == 'Sunday':\n",
        "      for hr in range(hours_of_day):\n",
        "        people.append(0)\n",
        "    else:\n",
        "      for hr in range(hours_of_day):\n",
        "         if hr>=0 and hr<10:\n",
        "            people.append(0)\n",
        "         elif hr>=10 and hr<17:\n",
        "            people.append(random.randint(0,5))\n",
        "         else:\n",
        "            people.append(0)  \n",
        "\n",
        "  #Winter break\n",
        "  elif date >= datetime(2022,12,17) and date < datetime(2023,1,1): \n",
        "    for hr in range(hours_of_day):\n",
        "      people.append(0) "
      ],
      "metadata": {
        "id": "MQYuBanBhpU0"
      },
      "execution_count": 97,
      "outputs": []
    },
    {
      "cell_type": "code",
      "source": [
        "print(len(day_tuple))"
      ],
      "metadata": {
        "colab": {
          "base_uri": "https://localhost:8080/"
        },
        "id": "a6jmpQgNWKfp",
        "outputId": "3feb6323-88f7-497d-9f4b-d60e671926c3"
      },
      "execution_count": 98,
      "outputs": [
        {
          "output_type": "stream",
          "name": "stdout",
          "text": [
            "365\n"
          ]
        }
      ]
    },
    {
      "cell_type": "code",
      "source": [
        "len(people)"
      ],
      "metadata": {
        "colab": {
          "base_uri": "https://localhost:8080/"
        },
        "id": "dTAOF616hpOt",
        "outputId": "b4880301-2543-44ea-8154-be89f72e819e"
      },
      "execution_count": 99,
      "outputs": [
        {
          "output_type": "execute_result",
          "data": {
            "text/plain": [
              "8760"
            ]
          },
          "metadata": {},
          "execution_count": 99
        }
      ]
    },
    {
      "cell_type": "code",
      "source": [
        "start_date = datetime(2022,1,1)\n",
        "end_date = start_date + timedelta(hours=len(people)-1)\n",
        "hours = pd.date_range(start_date, end_date, freq='H')\n",
        "\n",
        "hrange = range(len(hours))\n",
        "s = hours.to_series(index=hrange)\n",
        "weekdays = s.dt.day_name()\n",
        "len(hrange)"
      ],
      "metadata": {
        "colab": {
          "base_uri": "https://localhost:8080/"
        },
        "id": "c2Q2_KiYN6GF",
        "outputId": "afc1a09c-c9b4-4b2a-dbbc-141e85f605ef"
      },
      "execution_count": 100,
      "outputs": [
        {
          "output_type": "execute_result",
          "data": {
            "text/plain": [
              "8760"
            ]
          },
          "metadata": {},
          "execution_count": 100
        }
      ]
    },
    {
      "cell_type": "code",
      "source": [
        "df = pd.DataFrame(data= {'id': hrange,'hour': hours, 'weekday': weekdays, 'people': people})"
      ],
      "metadata": {
        "id": "RsiVH1f8N59I"
      },
      "execution_count": 101,
      "outputs": []
    },
    {
      "cell_type": "code",
      "source": [
        "df.to_csv('Sensors_schedule.csv')"
      ],
      "metadata": {
        "id": "Xly4vVZKKUEb"
      },
      "execution_count": 102,
      "outputs": []
    }
  ]
}