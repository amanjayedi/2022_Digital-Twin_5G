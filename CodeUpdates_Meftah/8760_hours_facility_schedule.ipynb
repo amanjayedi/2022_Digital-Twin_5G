{
  "nbformat": 4,
  "nbformat_minor": 0,
  "metadata": {
    "colab": {
      "provenance": []
    },
    "kernelspec": {
      "name": "python3",
      "display_name": "Python 3"
    },
    "language_info": {
      "name": "python"
    }
  },
  "cells": [
    {
      "cell_type": "code",
      "source": [
        "import pandas as pd\n",
        "import numpy as np\n",
        "from datetime import datetime, timedelta\n",
        "import calendar"
      ],
      "metadata": {
        "id": "DqtHTf-eRvwd"
      },
      "execution_count": 9,
      "outputs": []
    },
    {
      "cell_type": "markdown",
      "source": [
        "**Creating weekdays for 365 days in the year**"
      ],
      "metadata": {
        "id": "siLjOq25RnuN"
      }
    },
    {
      "cell_type": "code",
      "source": [
        "dates = pd.date_range('2022-01-01', '2022-12-31', freq='D')\n",
        "drange = range(len(dates))\n",
        "s = dates.to_series(index=drange)\n",
        "weekdays = s.dt.day_name()\n",
        "w_day = list(weekdays)"
      ],
      "metadata": {
        "id": "sQNpS6ZFRwZU"
      },
      "execution_count": 10,
      "outputs": []
    },
    {
      "cell_type": "markdown",
      "source": [
        "**Populating each day of the week based on facilaties' schedule for AHU-2**"
      ],
      "metadata": {
        "id": "dykos1TdR0ED"
      }
    },
    {
      "cell_type": "code",
      "source": [
        "people = []\n",
        "hours_of_day = 24\n",
        "for ii in w_day:\n",
        "  if ii == 'Sunday' or ii == 'Saturday' or ii =='Friday':\n",
        "    for hr in range(hours_of_day):\n",
        "      if hr<7:\n",
        "        people.append(0)\n",
        "      else:\n",
        "        people.append(65)\n",
        "      \n",
        "  else:\n",
        "    for hr in range(hours_of_day):\n",
        "      if hr>=0 and hr<6:\n",
        "        people.append(0)\n",
        "      elif hr>=6 and hr<23:\n",
        "        people.append(65)\n",
        "      else:\n",
        "        people.append(0)\n"
      ],
      "metadata": {
        "id": "e85iCY2E9Emp"
      },
      "execution_count": 11,
      "outputs": []
    },
    {
      "cell_type": "code",
      "source": [
        "len(people)"
      ],
      "metadata": {
        "id": "6mVI1QKJ9FJt",
        "colab": {
          "base_uri": "https://localhost:8080/"
        },
        "outputId": "2905f465-c386-461c-93d4-081564beaab8"
      },
      "execution_count": 12,
      "outputs": [
        {
          "output_type": "execute_result",
          "data": {
            "text/plain": [
              "8760"
            ]
          },
          "metadata": {},
          "execution_count": 12
        }
      ]
    },
    {
      "cell_type": "markdown",
      "source": [
        "**Creating all the hours (8760) in a calendar year**"
      ],
      "metadata": {
        "id": "cvPnwLxOSdzw"
      }
    },
    {
      "cell_type": "code",
      "source": [
        "start_date = datetime(2022,1,1)\n",
        "end_date = start_date + timedelta(hours=len(people)-1)\n",
        "days = pd.date_range(start_date, end_date, freq='H')\n",
        "\n",
        "hrange = range(len(days))\n",
        "s = days.to_series(index=hrange)\n",
        "weekdays = s.dt.day_name()\n",
        "len(drange)"
      ],
      "metadata": {
        "id": "EYPKruvfBYvX",
        "colab": {
          "base_uri": "https://localhost:8080/"
        },
        "outputId": "433c76f4-a61d-4030-f18c-07e97d007bc2"
      },
      "execution_count": 13,
      "outputs": [
        {
          "output_type": "execute_result",
          "data": {
            "text/plain": [
              "365"
            ]
          },
          "metadata": {},
          "execution_count": 13
        }
      ]
    },
    {
      "cell_type": "markdown",
      "source": [
        "**Creating the dataframe required for the simulation**"
      ],
      "metadata": {
        "id": "e9Meb0uRSy-0"
      }
    },
    {
      "cell_type": "code",
      "source": [
        "df = pd.DataFrame(data= {'id': hrange,'hour': days, 'weekday': weekdays, 'people': people})"
      ],
      "metadata": {
        "id": "GEGi_TuebHg6"
      },
      "execution_count": 14,
      "outputs": []
    },
    {
      "cell_type": "code",
      "source": [
        "df.to_csv('facility_schedule.csv')"
      ],
      "metadata": {
        "id": "YM33jfzfUS6G"
      },
      "execution_count": 15,
      "outputs": []
    },
    {
      "cell_type": "code",
      "source": [],
      "metadata": {
        "id": "uWbIIVH2Ua_z"
      },
      "execution_count": 15,
      "outputs": []
    }
  ]
}