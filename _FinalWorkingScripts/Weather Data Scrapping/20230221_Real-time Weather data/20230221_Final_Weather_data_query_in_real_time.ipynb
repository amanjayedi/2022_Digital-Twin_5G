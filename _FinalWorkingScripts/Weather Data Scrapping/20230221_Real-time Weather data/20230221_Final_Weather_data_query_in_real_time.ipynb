{
  "nbformat": 4,
  "nbformat_minor": 0,
  "metadata": {
    "colab": {
      "provenance": []
    },
    "kernelspec": {
      "name": "python3",
      "display_name": "Python 3"
    },
    "language_info": {
      "name": "python"
    }
  },
  "cells": [
    {
      "cell_type": "markdown",
      "source": [
        "# Weather data query"
      ],
      "metadata": {
        "id": "CralKu_AwiTq"
      }
    },
    {
      "cell_type": "code",
      "source": [
        "import csv\n",
        "import requests\n",
        "from datetime import datetime\n",
        "import pytz\n",
        "\n",
        "# Replace <API_KEY>, <LATITUDE>, and <LONGITUDE> with your own API key, latitude, and longitude\n",
        "api_key = '5216ae97235c334c1499bb33170d0500'\n",
        "latitude = 38.94\n",
        "longitude = -92.32\n",
        "\n",
        "# Get the current timestamp in US Central Time\n",
        "central = pytz.timezone('US/Central')\n",
        "now = datetime.now(central)\n",
        "timestamp = now.strftime('%d/%m/%Y %H:%M:%S')\n",
        "\n",
        "# Read the header row from the CSV file\n",
        "with open('weather_data.csv', 'r') as csvfile:\n",
        "    reader = csv.reader(csvfile)\n",
        "    header_row = next(reader)\n",
        "\n",
        "# Make a request to the API and get the response\n",
        "response = requests.get(f'https://api.openweathermap.org/data/2.5/weather?lat={latitude}&lon={longitude}&appid={api_key}')\n",
        "\n",
        "# Check if the response was successful\n",
        "if response.status_code == 200:\n",
        "    # Extract the relevant data from the response\n",
        "    data = response.json()\n",
        "    temperature = round(data['main']['temp'] - 273.15, 2) # Convert from Kelvin to Celsius and round to 2 decimal places\n",
        "    humidity = data['main']['humidity']\n",
        "    wind_speed = data['wind']['speed']\n",
        "    wind_direction = data['wind']['deg']\n",
        "    pressure = data['main']['pressure']\n",
        "    \n",
        "    # Create a list of the data to write to the CSV file\n",
        "    data_list = [timestamp, data[\"name\"], latitude, longitude, temperature, humidity, wind_speed, wind_direction, pressure]\n",
        "\n",
        "    # Write the data to the CSV file\n",
        "    with open('weather_data.csv', 'a', newline='') as csvfile:\n",
        "        writer = csv.writer(csvfile)\n",
        "        writer.writerow(data_list)\n",
        "\n",
        "    # Print the data\n",
        "    print(f'{header_row[0]}: {timestamp}') # Use the name of the city returned by the API\n",
        "    print(f'{header_row[1]}: {data[\"name\"]}') # Use the name of the city returned by the API\n",
        "    print(f'{header_row[2]}: {latitude}')\n",
        "    print(f'{header_row[3]}: {longitude}')\n",
        "    print(f'{header_row[4]}: {temperature} °C') # Add units to the print statement\n",
        "    print(f'{header_row[5]}: {humidity}')\n",
        "    print(f'{header_row[6]}: {wind_speed} m/s')\n",
        "    print(f'{header_row[7]}: {wind_direction} degrees')\n",
        "    print(f'{header_row[8]}: {pressure} hPa')\n",
        "else:\n",
        "    # If the response was not successful, print the status code\n",
        "    print(f'Request failed with status code {response.status_code}')\n"
      ],
      "metadata": {
        "colab": {
          "base_uri": "https://localhost:8080/"
        },
        "id": "oBFUf4RbvafC",
        "outputId": "ef985392-069c-4f3c-c092-b14c0fb8d343"
      },
      "execution_count": 2,
      "outputs": [
        {
          "output_type": "stream",
          "name": "stdout",
          "text": [
            "﻿timestamp: 21/02/2023 14:36:48\n",
            "city: Columbia\n",
            "latitude: 38.94\n",
            "longitude: -92.32\n",
            "Temperature (degC): 13.8 °C\n",
            "Humidity (%): 38\n",
            "Wind Speed (m/s): 6.17 m/s\n",
            "Wind Direction (deg): 90 degrees\n",
            "Pressure (Pa): 1005 hPa\n"
          ]
        }
      ]
    }
  ]
}