{
 "cells": [
  {
   "cell_type": "markdown",
   "id": "cb9dd1f1",
   "metadata": {},
   "source": [
    "# Automating Rhino and Revit together using Python Script and Hops\n",
    "#### Writen by: Aman, Jayedi\n",
    "#### iLab, University of Missouri\n",
    "#### 27 Oct, 2022"
   ]
  },
  {
   "cell_type": "markdown",
   "id": "165fb64d",
   "metadata": {},
   "source": [
    "## Pandas\n",
    "\n",
    "Pandas is a fast, powerful, flexible and easy to use open source data analysis and manipulation tool, built on top of the Python programming language.\n",
    "Pandas is built on top of the [NumPy](https://numpy.org/) package, meaning a lot of the structure of NumPy is used or replicated in Pandas. Data in pandas is often used to feed statistical analysis in [SciPy](https://www.scipy.org/), plotting functions from [Matplotlib](https://matplotlib.org/), and machine learning algorithms in [Scikit-learn](https://scikit-learn.org/stable/).\n",
    "\n",
    "### Installation\n",
    "\n",
    "You can install libraries using [Pip](https://pypi.org/project/pip/) which is a package installer for Python. You can also create a virtual environment for your installations using [Anaconda](https://www.anaconda.com/products/individual#Downloads)  [recommended]. \n",
    "\n",
    "[pandas installation link](https://pandas.pydata.org/getting_started.html)"
   ]
  },
  {
   "cell_type": "code",
   "execution_count": 21,
   "id": "8fcd2b20",
   "metadata": {},
   "outputs": [],
   "source": [
    "import pandas as pd\n",
    "pd.set_option('display.max_columns', None)\n",
    "pd.set_option('display.max_rows', None)\n",
    "import warnings\n",
    "warnings.filterwarnings('ignore')\n",
    "\n",
    "import numpy as np\n",
    "\n",
    "# general pyhthon libs import\n",
    "import base64\n",
    "import json\n",
    "import requests\n",
    "\n",
    "#For iteration process\n",
    "import sys\n",
    "from os import listdir\n",
    "from os.path import isfile, join\n",
    "import pandas as pd\n",
    "import os\n",
    "import time\n",
    "import csv"
   ]
  },
  {
   "cell_type": "markdown",
   "id": "e17566f6",
   "metadata": {},
   "source": [
    "#### Set Directory"
   ]
  },
  {
   "cell_type": "code",
   "execution_count": 22,
   "id": "1964d493",
   "metadata": {},
   "outputs": [
    {
     "name": "stdout",
     "output_type": "stream",
     "text": [
      "Current working directory: H:\\MIZZOU\\_MotherFolderAmanWorks\\Research With Dr Jong Bum\\_2022-2023_AT&T_DigitalTwin\\_WorkUpdates_DigitalTwinResearch_AT&T\\_Spring23Works\\20230205_Final_Iteration&AutomationUsingHops\n"
     ]
    }
   ],
   "source": [
    "\n",
    "# Python program to explain os.getcwd() method \n",
    "          \n",
    "# importing os module \n",
    "import os \n",
    "      \n",
    "# Get the current working \n",
    "# directory (CWD) \n",
    "cwd = os.getcwd() \n",
    "      \n",
    "# Print the current working \n",
    "# directory (CWD) \n",
    "print(\"Current working directory:\", cwd)"
   ]
  },
  {
   "cell_type": "markdown",
   "id": "a3cb0b9b",
   "metadata": {},
   "source": [
    "### Rhino 3dm\n",
    "\n",
    "[Rhino3dm](https://pypi.org/project/rhino3dm/) is a set of libraries based on the OpenNURBS geometry library with a \"RhinoCommon\" style. This provides the ability to access and manipulate geometry through .NET, Python or JavaScript applications independent of Rhino.\n",
    "\n",
    "[Rhino3dm Link](https://github.com/mcneel/rhino3dm)\n",
    "\n",
    "`pip install rhino3dm`\n",
    "\n",
    "[Rhino Compute Link](https://pypi.org/project/compute-rhino3d/)\n",
    "\n",
    "`pip install compute-rhino3d`"
   ]
  },
  {
   "cell_type": "code",
   "execution_count": 23,
   "id": "7c7cece3",
   "metadata": {},
   "outputs": [],
   "source": [
    "# rhino 3dm import\n",
    "# from rhino3dm import *\n",
    "import rhino3dm as rhino3dm\n",
    "import compute_rhino3d.Util"
   ]
  },
  {
   "cell_type": "markdown",
   "id": "e51d360c",
   "metadata": {},
   "source": [
    "## Grasshopper + HOPS\n",
    "\n",
    "1. Open Rhino 7\n",
    "2. type `PackageManger` in the Rhino command line.\n",
    "3. search for *Hops*\n",
    "4. Select *Hops* and install\n",
    "5. Restart Rhino\n",
    "\n",
    "[Hops Website Link](https://developer.rhino3d.com/guides/grasshopper/hops-component/)"
   ]
  },
  {
   "cell_type": "code",
   "execution_count": 24,
   "id": "cea3a755",
   "metadata": {},
   "outputs": [
    {
     "data": {
      "text/plain": [
       "{'rhino': '7.24.22308.15001', 'compute': '1.0.0.0', 'git_sha': None}"
      ]
     },
     "execution_count": 24,
     "metadata": {},
     "output_type": "execute_result"
    }
   ],
   "source": [
    "# Rhino compute by default launches on port 6500\n",
    "compute_url = \"http://localhost:8081/\"\n",
    "\n",
    "# set the URL\n",
    "compute_rhino3d.Util.url = compute_url\n",
    "# no auth token required\n",
    "compute_rhino3d.Util.authToken = \"\"\n",
    "\n",
    "# test, should return version object\n",
    "version_test = requests.get(compute_url + '/version')\n",
    "json.loads(version_test.content)"
   ]
  },
  {
   "cell_type": "markdown",
   "id": "0e088848",
   "metadata": {},
   "source": [
    "#### Load Grasshopper File"
   ]
  },
  {
   "cell_type": "code",
   "execution_count": 25,
   "id": "a9b11672",
   "metadata": {},
   "outputs": [
    {
     "name": "stdout",
     "output_type": "stream",
     "text": [
      "../Rhino/20230205_DigitalTwinForHops.ghx\n"
     ]
    }
   ],
   "source": [
    "'''\n",
    "Load Grasshopper model via File3dm.Read\n",
    "'''\n",
    "\n",
    "rhino_dir = \"../Rhino/\"\n",
    "#gh_path = \"20220915_DigitalTwinForHops.ghx\"\n",
    "gh_path = \"20230205_DigitalTwinForHops.ghx\"\n",
    "file_path = rhino_dir + gh_path\n",
    "print(file_path)\n",
    "# read the 3dm file\n",
    "ghFile = rhino3dm.File3dm.Read(file_path)\n",
    "\n",
    "\n",
    "gh_geo = open(\"Rhino/20230205_DigitalTwinForHops.ghx\", mode=\"r\", encoding=\"utf-8-sig\").read()\n",
    "gh_geo_bytes = gh_geo.encode(\"utf-8\")\n",
    "gh_geo_encoded = base64.b64encode(gh_geo_bytes)\n",
    "gh_geo_decoded = gh_geo_encoded.decode(\"utf-8\")"
   ]
  },
  {
   "cell_type": "markdown",
   "id": "6143e559",
   "metadata": {},
   "source": [
    "### Get the data from sensors"
   ]
  },
  {
   "cell_type": "code",
   "execution_count": 18,
   "id": "72b8f371",
   "metadata": {},
   "outputs": [],
   "source": [
    "# # Inputs: We'll get the inputs from the sensors\n",
    "\n",
    "# # adjust between 0 and 0.9\n",
    "# id_sim = 500\n",
    "\n",
    "# # # adjust between 1 and 50\n",
    "# # Equipment = 5\n",
    "\n",
    "# # #Lighting\n",
    "# # #Light = #multiply lux to 0.0079\n",
    "\n",
    "# # # adjust between 0 and 1\n",
    "# # MOCarbonFactor = 0.69\n",
    "\n",
    "# # # ---------------------"
   ]
  },
  {
   "cell_type": "code",
   "execution_count": 26,
   "id": "81980d85",
   "metadata": {},
   "outputs": [
    {
     "name": "stdout",
     "output_type": "stream",
     "text": [
      "Operational Carbon: 1.1942581438356166\n"
     ]
    }
   ],
   "source": [
    "# # payload\n",
    "# geo_payload = {\n",
    "#     \"algo\": gh_geo_decoded,\n",
    "#     \"pointer\": None,\n",
    "#     \"values\": [\n",
    "#         {\n",
    "#             \"ParamName\": \"id_sim\",\n",
    "#             \"InnerTree\": {\n",
    "#                 \"{ 0; }\": [\n",
    "#                     {\n",
    "#                         \"type\": \"System.Double\",\n",
    "#                         \"data\": id_sim\n",
    "#                     }\n",
    "#                 ]\n",
    "#             }\n",
    "#         }\n",
    "#     ]\n",
    "# }\n",
    "\n",
    "# # send HTTP request to Rhino Compute Server\n",
    "# res = requests.post(compute_url + \"grasshopper\", json=geo_payload)\n",
    "\n",
    "# # print(\"status code: {}\".format(res.status_code))\n",
    "\n",
    "# # deserialize response obj293.29ect\n",
    "# response_object = json.loads(res.content)['values']\n",
    "\n",
    "# # geometry_output = [result for result in response_object if result['ParamName'] == 'RH_OUT:geometry'][0]['InnerTree']['{0;0;0;0;0}']\n",
    "# # print(\"number of buildings generated: {}\".format(len(geometry_output)))\n",
    "\n",
    "# OperationalCarbon = [result for result in response_object if result['ParamName'] == 'RH_OUT:emissions_carbon'][0]['InnerTree']['{0}'][0]['data']\n",
    "# print('Operational Carbon: {}'.format(OperationalCarbon))\n",
    "\n",
    "# # EUI = [result for result in response_object if result['ParamName'] == 'RH_OUT:EUI'][0]['InnerTree']['{0}'][0]['data']\n",
    "# # print('Energy Use Intensity: {}'.format(EUI))"
   ]
  },
  {
   "cell_type": "code",
   "execution_count": 28,
   "id": "76278e8e",
   "metadata": {},
   "outputs": [
    {
     "name": "stdout",
     "output_type": "stream",
     "text": [
      "Operational Carbon: 1.6060818082191779\n",
      "Operational Carbon: 1.2418317534246575\n"
     ]
    }
   ],
   "source": [
    "# Initialize the loop variable\n",
    "id_sim = 0\n",
    "\n",
    "# Loop until the loop variable reaches 743\n",
    "while id_sim < 2:\n",
    "    \n",
    "    # payload\n",
    "    geo_payload = {\n",
    "        \"algo\": gh_geo_decoded,\n",
    "        \"pointer\": None,\n",
    "        \"values\": [\n",
    "            {\n",
    "                \"ParamName\": \"id_sim\",\n",
    "                \"InnerTree\": {\n",
    "                    \"{ 0; }\": [\n",
    "                        {\n",
    "                            \"type\": \"System.Double\",\n",
    "                            \"data\": id_sim\n",
    "                        }\n",
    "                    ]\n",
    "                }\n",
    "            }\n",
    "        ]\n",
    "    }\n",
    "\n",
    "    # send HTTP request to Rhino Compute Server\n",
    "    res = requests.post(compute_url + \"grasshopper\", json=geo_payload)\n",
    "\n",
    "    # print(\"status code: {}\".format(res.status_code))\n",
    "\n",
    "    # deserialize response obj293.29ect\n",
    "    response_object = json.loads(res.content)['values']\n",
    "\n",
    "\n",
    "    emissions_carbon = [result for result in response_object if result['ParamName'] == 'RH_OUT:emissions_carbon'][0]['InnerTree']['{0}'][0]['data']\n",
    "    print('Operational Carbon: {}'.format(emissions_carbon))\n",
    "    \n",
    "    \n",
    "        # Write the result to a CSV file\n",
    "    with open('emissions_carbon_results.csv', 'a') as file:\n",
    "        writer = csv.writer(file)\n",
    "        writer.writerow([id_sim, emissions_carbon])\n",
    "\n",
    "    # Increment the loop variable\n",
    "    id_sim += 1\n",
    "\n",
    "    # Wait for 1 second before moving to the next iteration\n",
    "    time.sleep(0)\n",
    "\n",
    "\n"
   ]
  },
  {
   "cell_type": "code",
   "execution_count": 31,
   "id": "26599707",
   "metadata": {},
   "outputs": [
    {
     "name": "stderr",
     "output_type": "stream",
     "text": [
      "WARNING:bokeh.core.validation.check:W-1000 (MISSING_RENDERERS): Plot has no renderers: Figure(id='1120', ...)\n"
     ]
    }
   ],
   "source": [
    "from bokeh.plotting import figure, show\n",
    "from bokeh.layouts import gridplot, row, column\n",
    "from bokeh.io import output_file, show\n",
    "from bokeh.models import ColumnDataSource, DataTable, TableColumn\n",
    "\n",
    "# Read the CSV file into a pandas DataFrame\n",
    "data = pd.read_csv('emissions_carbon_results.csv', names=['ID', 'Emissions Carbon'])\n",
    "source = ColumnDataSource(data)\n",
    "\n",
    "# Create a line plot\n",
    "line_plot = figure(title=\"Line Plot\", x_axis_label=\"ID\", y_axis_label=\"Emissions Carbon\")\n",
    "line_plot.line(x='ID', y='Emissions Carbon', source=source, line_width=2)\n",
    "\n",
    "# Create a bar plot\n",
    "bar_plot = figure(title=\"Bar Plot\", x_axis_label=\"ID\", y_axis_label=\"Emissions Carbon\")\n",
    "bar_plot.vbar(x='ID', top='Emissions Carbon', width=0.9, source=source)\n",
    "\n",
    "# Create a scatter plot\n",
    "scatter_plot = figure(title=\"Scatter Plot\", x_axis_label=\"ID\", y_axis_label=\"Emissions Carbon\")\n",
    "scatter_plot.scatter(x='ID', y='Emissions Carbon', size=10, color=\"red\", source=source)\n",
    "\n",
    "# Create a heading for the dashboard\n",
    "heading = figure(title=\"AT&T Digital Twin\", plot_width=600, plot_height=50)\n",
    "\n",
    "# Create a data table\n",
    "columns = [\n",
    "    TableColumn(field=\"ID\", title=\"ID\"),\n",
    "    TableColumn(field=\"Emissions Carbon\", title=\"Emissions Carbon\")\n",
    "]\n",
    "data_table = DataTable(source=source, columns=columns, width=600, height=200)\n",
    "\n",
    "# Organize the plots and heading into a grid layout\n",
    "layout = gridplot([[line_plot, bar_plot], [scatter_plot, data_table]])\n",
    "final_layout = column(row(heading), layout)\n",
    "\n",
    "# Save the layout to an HTML file\n",
    "output_file(\"emissions_carbon_plots.html\")\n",
    "show(final_layout)\n"
   ]
  }
 ],
 "metadata": {
  "kernelspec": {
   "display_name": "Python 3 (ipykernel)",
   "language": "python",
   "name": "python3"
  },
  "language_info": {
   "codemirror_mode": {
    "name": "ipython",
    "version": 3
   },
   "file_extension": ".py",
   "mimetype": "text/x-python",
   "name": "python",
   "nbconvert_exporter": "python",
   "pygments_lexer": "ipython3",
   "version": "3.9.7"
  }
 },
 "nbformat": 4,
 "nbformat_minor": 5
}
