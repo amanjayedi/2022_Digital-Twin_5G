{
  "nbformat": 4,
  "nbformat_minor": 0,
  "metadata": {
    "colab": {
      "provenance": []
    },
    "kernelspec": {
      "name": "python3",
      "display_name": "Python 3"
    },
    "language_info": {
      "name": "python"
    },
    "gpuClass": "standard"
  },
  "cells": [
    {
      "cell_type": "markdown",
      "source": [
        "**1. importing file from drive to content**"
      ],
      "metadata": {
        "id": "ym39KT2C2PtV"
      }
    },
    {
      "cell_type": "code",
      "source": [
        "from google.colab import drive\n",
        "drive.mount('/content/drive')"
      ],
      "metadata": {
        "colab": {
          "base_uri": "https://localhost:8080/"
        },
        "id": "RMbZM7I0eV6H",
        "outputId": "33802152-f919-442e-ed96-cf48a0fe4922"
      },
      "execution_count": null,
      "outputs": [
        {
          "output_type": "stream",
          "name": "stdout",
          "text": [
            "Mounted at /content/drive\n"
          ]
        }
      ]
    },
    {
      "cell_type": "code",
      "source": [
        "!nvidia-smi\n"
      ],
      "metadata": {
        "colab": {
          "base_uri": "https://localhost:8080/"
        },
        "id": "yMiKoRJM0UmV",
        "outputId": "6e3885eb-a247-4206-a43e-b30754eb524f"
      },
      "execution_count": null,
      "outputs": [
        {
          "output_type": "stream",
          "name": "stdout",
          "text": [
            "Sat Feb 25 22:25:33 2023       \n",
            "+-----------------------------------------------------------------------------+\n",
            "| NVIDIA-SMI 525.85.12    Driver Version: 525.85.12    CUDA Version: 12.0     |\n",
            "|-------------------------------+----------------------+----------------------+\n",
            "| GPU  Name        Persistence-M| Bus-Id        Disp.A | Volatile Uncorr. ECC |\n",
            "| Fan  Temp  Perf  Pwr:Usage/Cap|         Memory-Usage | GPU-Util  Compute M. |\n",
            "|                               |                      |               MIG M. |\n",
            "|===============================+======================+======================|\n",
            "|   0  Tesla T4            Off  | 00000000:00:04.0 Off |                    0 |\n",
            "| N/A   71C    P0    30W /  70W |      0MiB / 15360MiB |      0%      Default |\n",
            "|                               |                      |                  N/A |\n",
            "+-------------------------------+----------------------+----------------------+\n",
            "                                                                               \n",
            "+-----------------------------------------------------------------------------+\n",
            "| Processes:                                                                  |\n",
            "|  GPU   GI   CI        PID   Type   Process name                  GPU Memory |\n",
            "|        ID   ID                                                   Usage      |\n",
            "|=============================================================================|\n",
            "|  No running processes found                                                 |\n",
            "+-----------------------------------------------------------------------------+\n"
          ]
        }
      ]
    },
    {
      "cell_type": "markdown",
      "source": [
        "**2. Calling all libraries"
      ],
      "metadata": {
        "id": "4ofUFuLp2YZM"
      }
    },
    {
      "cell_type": "code",
      "source": [
        "import numpy as np\n",
        "import pandas as pd\n",
        "import matplotlib.pyplot as plt\n",
        "from sklearn.svm import SVR\n",
        "from sklearn.model_selection import train_test_split, GridSearchCV\n",
        "from sklearn.utils.fixes import sklearn\n",
        "from sklearn import preprocessing, utils\n",
        "from sklearn.linear_model import LinearRegression\n",
        "from sklearn.metrics import mean_squared_error\n",
        "import seaborn as sns\n",
        "from sklearn import preprocessing\n",
        "from sklearn import utils\n",
        "\n",
        "\n",
        "import joblib\n",
        "from sklearn import metrics\n",
        "from sklearn.metrics import mean_squared_error as mse\n",
        "\n",
        "import seaborn as sns"
      ],
      "metadata": {
        "id": "FQCvbLLSp98v"
      },
      "execution_count": null,
      "outputs": []
    },
    {
      "cell_type": "markdown",
      "source": [
        "**3. Reading csv file using pandas dataframe**"
      ],
      "metadata": {
        "id": "85jwtBNV2irg"
      }
    },
    {
      "cell_type": "code",
      "source": [
        "df = pd.read_csv('/content/drive/MyDrive/MIZZOU/DigitalTwin_AT&T/_2023_DigitalTwinCodes/_20230224_SVR_DecisionTreeScripts/20230224_weather_OccupancyBased.csv')\n",
        "df = df.iloc[:743,1:] #sparsing columns and rows\n",
        "print(df.head(3))\n",
        "df.columns"
      ],
      "metadata": {
        "colab": {
          "base_uri": "https://localhost:8080/"
        },
        "id": "HrpzUMCx_bub",
        "outputId": "76cec8d7-dfb0-4a04-acff-7777da0799eb"
      },
      "execution_count": null,
      "outputs": [
        {
          "output_type": "stream",
          "name": "stdout",
          "text": [
            "    id       timestamp             Day  Temperature (degC)  Humidity (%)  \\\n",
            "0  0.0  10/1/2022 0:00  10/1/2022 0:00               11.06          71.0   \n",
            "1  1.0  10/1/2022 1:00  10/1/2022 1:00                9.83          77.0   \n",
            "2  2.0  10/1/2022 2:00  10/1/2022 2:00                8.50          82.0   \n",
            "\n",
            "   Wind Speed (m/s)  Wind Direction (deg)  Pressure (hPa)  PeopleCount(p)  \\\n",
            "0               1.0                  96.0          1020.0            10.0   \n",
            "1               1.0                  90.0          1020.0             4.0   \n",
            "2               1.0                  92.0          1020.0             0.0   \n",
            "\n",
            "   PeoplePerArea(p/m2)  LightingPower(W)  LightingPowerIntensity(W/m2)  \\\n",
            "0             0.038662             300.0                      1.159869   \n",
            "1             0.015465             300.0                      1.159869   \n",
            "2             0.000000               0.0                      0.000000   \n",
            "\n",
            "   EquipmentLoad(W)  EquipmentPowerIntensity(W/m2)  VentilationRate (m3/s)  \\\n",
            "0              87.4                       0.337908                 0.27120   \n",
            "1              81.4                       0.314711                 0.18648   \n",
            "2              77.4                       0.299246                 0.13000   \n",
            "\n",
            "        ACH  CarbonEmissions(lb-co2/h)  \n",
            "0  1.034237                   1.977770  \n",
            "1  0.711153                   1.923205  \n",
            "2  0.495763                   1.761687  \n"
          ]
        },
        {
          "output_type": "execute_result",
          "data": {
            "text/plain": [
              "Index(['id', 'timestamp', 'Day', 'Temperature (degC)', 'Humidity (%)',\n",
              "       'Wind Speed (m/s)', 'Wind Direction (deg)', 'Pressure (hPa)',\n",
              "       'PeopleCount(p)', 'PeoplePerArea(p/m2)', 'LightingPower(W)',\n",
              "       'LightingPowerIntensity(W/m2)', 'EquipmentLoad(W)',\n",
              "       'EquipmentPowerIntensity(W/m2)', 'VentilationRate (m3/s)', 'ACH',\n",
              "       'CarbonEmissions(lb-co2/h)'],\n",
              "      dtype='object')"
            ]
          },
          "metadata": {},
          "execution_count": 4
        }
      ]
    },
    {
      "cell_type": "markdown",
      "source": [
        "**4. Removing unwanted columns from the dataset**"
      ],
      "metadata": {
        "id": "7es6P4cW2yTa"
      }
    },
    {
      "cell_type": "code",
      "source": [
        "df.drop(['id', 'timestamp', 'Day','PeopleCount(p)','LightingPower(W)','EquipmentLoad(W)','VentilationRate (m3/s)'], axis =1, inplace=True)\n",
        "df.head(3)"
      ],
      "metadata": {
        "colab": {
          "base_uri": "https://localhost:8080/",
          "height": 242
        },
        "id": "N4zGXj-6t9TD",
        "outputId": "110052ea-8b21-42ba-8b4d-c4aa80321a2e"
      },
      "execution_count": null,
      "outputs": [
        {
          "output_type": "execute_result",
          "data": {
            "text/plain": [
              "   Temperature (degC)  Humidity (%)  Wind Speed (m/s)  Wind Direction (deg)  \\\n",
              "0               11.06          71.0               1.0                  96.0   \n",
              "1                9.83          77.0               1.0                  90.0   \n",
              "2                8.50          82.0               1.0                  92.0   \n",
              "\n",
              "   Pressure (hPa)  PeoplePerArea(p/m2)  LightingPowerIntensity(W/m2)  \\\n",
              "0          1020.0             0.038662                      1.159869   \n",
              "1          1020.0             0.015465                      1.159869   \n",
              "2          1020.0             0.000000                      0.000000   \n",
              "\n",
              "   EquipmentPowerIntensity(W/m2)       ACH  CarbonEmissions(lb-co2/h)  \n",
              "0                       0.337908  1.034237                   1.977770  \n",
              "1                       0.314711  0.711153                   1.923205  \n",
              "2                       0.299246  0.495763                   1.761687  "
            ],
            "text/html": [
              "\n",
              "  <div id=\"df-d894458c-9f08-4f34-b879-8dda9acfe753\">\n",
              "    <div class=\"colab-df-container\">\n",
              "      <div>\n",
              "<style scoped>\n",
              "    .dataframe tbody tr th:only-of-type {\n",
              "        vertical-align: middle;\n",
              "    }\n",
              "\n",
              "    .dataframe tbody tr th {\n",
              "        vertical-align: top;\n",
              "    }\n",
              "\n",
              "    .dataframe thead th {\n",
              "        text-align: right;\n",
              "    }\n",
              "</style>\n",
              "<table border=\"1\" class=\"dataframe\">\n",
              "  <thead>\n",
              "    <tr style=\"text-align: right;\">\n",
              "      <th></th>\n",
              "      <th>Temperature (degC)</th>\n",
              "      <th>Humidity (%)</th>\n",
              "      <th>Wind Speed (m/s)</th>\n",
              "      <th>Wind Direction (deg)</th>\n",
              "      <th>Pressure (hPa)</th>\n",
              "      <th>PeoplePerArea(p/m2)</th>\n",
              "      <th>LightingPowerIntensity(W/m2)</th>\n",
              "      <th>EquipmentPowerIntensity(W/m2)</th>\n",
              "      <th>ACH</th>\n",
              "      <th>CarbonEmissions(lb-co2/h)</th>\n",
              "    </tr>\n",
              "  </thead>\n",
              "  <tbody>\n",
              "    <tr>\n",
              "      <th>0</th>\n",
              "      <td>11.06</td>\n",
              "      <td>71.0</td>\n",
              "      <td>1.0</td>\n",
              "      <td>96.0</td>\n",
              "      <td>1020.0</td>\n",
              "      <td>0.038662</td>\n",
              "      <td>1.159869</td>\n",
              "      <td>0.337908</td>\n",
              "      <td>1.034237</td>\n",
              "      <td>1.977770</td>\n",
              "    </tr>\n",
              "    <tr>\n",
              "      <th>1</th>\n",
              "      <td>9.83</td>\n",
              "      <td>77.0</td>\n",
              "      <td>1.0</td>\n",
              "      <td>90.0</td>\n",
              "      <td>1020.0</td>\n",
              "      <td>0.015465</td>\n",
              "      <td>1.159869</td>\n",
              "      <td>0.314711</td>\n",
              "      <td>0.711153</td>\n",
              "      <td>1.923205</td>\n",
              "    </tr>\n",
              "    <tr>\n",
              "      <th>2</th>\n",
              "      <td>8.50</td>\n",
              "      <td>82.0</td>\n",
              "      <td>1.0</td>\n",
              "      <td>92.0</td>\n",
              "      <td>1020.0</td>\n",
              "      <td>0.000000</td>\n",
              "      <td>0.000000</td>\n",
              "      <td>0.299246</td>\n",
              "      <td>0.495763</td>\n",
              "      <td>1.761687</td>\n",
              "    </tr>\n",
              "  </tbody>\n",
              "</table>\n",
              "</div>\n",
              "      <button class=\"colab-df-convert\" onclick=\"convertToInteractive('df-d894458c-9f08-4f34-b879-8dda9acfe753')\"\n",
              "              title=\"Convert this dataframe to an interactive table.\"\n",
              "              style=\"display:none;\">\n",
              "        \n",
              "  <svg xmlns=\"http://www.w3.org/2000/svg\" height=\"24px\"viewBox=\"0 0 24 24\"\n",
              "       width=\"24px\">\n",
              "    <path d=\"M0 0h24v24H0V0z\" fill=\"none\"/>\n",
              "    <path d=\"M18.56 5.44l.94 2.06.94-2.06 2.06-.94-2.06-.94-.94-2.06-.94 2.06-2.06.94zm-11 1L8.5 8.5l.94-2.06 2.06-.94-2.06-.94L8.5 2.5l-.94 2.06-2.06.94zm10 10l.94 2.06.94-2.06 2.06-.94-2.06-.94-.94-2.06-.94 2.06-2.06.94z\"/><path d=\"M17.41 7.96l-1.37-1.37c-.4-.4-.92-.59-1.43-.59-.52 0-1.04.2-1.43.59L10.3 9.45l-7.72 7.72c-.78.78-.78 2.05 0 2.83L4 21.41c.39.39.9.59 1.41.59.51 0 1.02-.2 1.41-.59l7.78-7.78 2.81-2.81c.8-.78.8-2.07 0-2.86zM5.41 20L4 18.59l7.72-7.72 1.47 1.35L5.41 20z\"/>\n",
              "  </svg>\n",
              "      </button>\n",
              "      \n",
              "  <style>\n",
              "    .colab-df-container {\n",
              "      display:flex;\n",
              "      flex-wrap:wrap;\n",
              "      gap: 12px;\n",
              "    }\n",
              "\n",
              "    .colab-df-convert {\n",
              "      background-color: #E8F0FE;\n",
              "      border: none;\n",
              "      border-radius: 50%;\n",
              "      cursor: pointer;\n",
              "      display: none;\n",
              "      fill: #1967D2;\n",
              "      height: 32px;\n",
              "      padding: 0 0 0 0;\n",
              "      width: 32px;\n",
              "    }\n",
              "\n",
              "    .colab-df-convert:hover {\n",
              "      background-color: #E2EBFA;\n",
              "      box-shadow: 0px 1px 2px rgba(60, 64, 67, 0.3), 0px 1px 3px 1px rgba(60, 64, 67, 0.15);\n",
              "      fill: #174EA6;\n",
              "    }\n",
              "\n",
              "    [theme=dark] .colab-df-convert {\n",
              "      background-color: #3B4455;\n",
              "      fill: #D2E3FC;\n",
              "    }\n",
              "\n",
              "    [theme=dark] .colab-df-convert:hover {\n",
              "      background-color: #434B5C;\n",
              "      box-shadow: 0px 1px 3px 1px rgba(0, 0, 0, 0.15);\n",
              "      filter: drop-shadow(0px 1px 2px rgba(0, 0, 0, 0.3));\n",
              "      fill: #FFFFFF;\n",
              "    }\n",
              "  </style>\n",
              "\n",
              "      <script>\n",
              "        const buttonEl =\n",
              "          document.querySelector('#df-d894458c-9f08-4f34-b879-8dda9acfe753 button.colab-df-convert');\n",
              "        buttonEl.style.display =\n",
              "          google.colab.kernel.accessAllowed ? 'block' : 'none';\n",
              "\n",
              "        async function convertToInteractive(key) {\n",
              "          const element = document.querySelector('#df-d894458c-9f08-4f34-b879-8dda9acfe753');\n",
              "          const dataTable =\n",
              "            await google.colab.kernel.invokeFunction('convertToInteractive',\n",
              "                                                     [key], {});\n",
              "          if (!dataTable) return;\n",
              "\n",
              "          const docLinkHtml = 'Like what you see? Visit the ' +\n",
              "            '<a target=\"_blank\" href=https://colab.research.google.com/notebooks/data_table.ipynb>data table notebook</a>'\n",
              "            + ' to learn more about interactive tables.';\n",
              "          element.innerHTML = '';\n",
              "          dataTable['output_type'] = 'display_data';\n",
              "          await google.colab.output.renderOutput(dataTable, element);\n",
              "          const docLink = document.createElement('div');\n",
              "          docLink.innerHTML = docLinkHtml;\n",
              "          element.appendChild(docLink);\n",
              "        }\n",
              "      </script>\n",
              "    </div>\n",
              "  </div>\n",
              "  "
            ]
          },
          "metadata": {},
          "execution_count": 5
        }
      ]
    },
    {
      "cell_type": "markdown",
      "source": [
        "**5. Taking X for input of ML and y for output**"
      ],
      "metadata": {
        "id": "oksN1cXJ3OmI"
      }
    },
    {
      "cell_type": "code",
      "source": [
        "#X = df[['PeoplePerArea(p/m2)','LightingPowerIntensity(W/m2)','EquipmentPowerIntensity(W/m2)','ACH']]\n",
        "X = df[['Temperature (degC)','Humidity (%)','Wind Speed (m/s)','Wind Direction (deg)','Pressure (hPa)','PeoplePerArea(p/m2)','LightingPowerIntensity(W/m2)','EquipmentPowerIntensity(W/m2)','ACH']]\n",
        "y = df['CarbonEmissions(lb-co2/h)']\n"
      ],
      "metadata": {
        "id": "fzi5n6bp0JQW"
      },
      "execution_count": null,
      "outputs": []
    },
    {
      "cell_type": "code",
      "source": [
        "y"
      ],
      "metadata": {
        "colab": {
          "base_uri": "https://localhost:8080/"
        },
        "id": "JuPbunswfwhh",
        "outputId": "018b1f5c-b902-415e-dfee-aee4e9cba52e"
      },
      "execution_count": null,
      "outputs": [
        {
          "output_type": "execute_result",
          "data": {
            "text/plain": [
              "0      1.977770\n",
              "1      1.923205\n",
              "2      1.761687\n",
              "3      1.761687\n",
              "4      1.761687\n",
              "         ...   \n",
              "738    1.923205\n",
              "739    1.923205\n",
              "740    1.907923\n",
              "741    1.761687\n",
              "742    1.761687\n",
              "Name: CarbonEmissions(lb-co2/h), Length: 743, dtype: float64"
            ]
          },
          "metadata": {},
          "execution_count": 7
        }
      ]
    },
    {
      "cell_type": "markdown",
      "source": [
        "**6. Random State**"
      ],
      "metadata": {
        "id": "KIjylMPeqiw1"
      }
    },
    {
      "cell_type": "code",
      "source": [
        "\n",
        "# Array of random_state values from 0 to 400\n",
        "random_states = np.arange(start=0, stop=5000)\n",
        "\n",
        "# Initialize a list where we'll store the score of each random_state\n",
        "scores = []\n",
        "\n",
        "# Initialize search\n",
        "for state in random_states:\n",
        "    X_train,X_test,y_train,y_test=train_test_split(X,y,test_size=0.20, random_state=state)\n",
        "    svr_linear = SVR(kernel='linear',gamma='scale', C=5, epsilon=0.3)\n",
        "    svr_linear.fit(X_train,y_train)\n",
        "    scores.append(svr_linear.score(X_test, y_test))\n",
        "\n",
        "results = pd.DataFrame({'random_state':random_states, 'score':scores})\n",
        "RandomState_df = results[results['score'] == results['score'].max()]\n",
        "RandomState = RandomState_df.iloc[0][0].astype(int)\n",
        "print(\"The best Random State Value of this dataset is:\", RandomState)"
      ],
      "metadata": {
        "colab": {
          "base_uri": "https://localhost:8080/"
        },
        "id": "aE9j-Bz5sGnQ",
        "outputId": "ae6ea9bc-e4ec-4d9a-912b-2f707de93f59"
      },
      "execution_count": null,
      "outputs": [
        {
          "output_type": "stream",
          "name": "stdout",
          "text": [
            "The best Random State Value of this dataset is: 2209\n"
          ]
        }
      ]
    },
    {
      "cell_type": "markdown",
      "source": [
        "**7. Learning Curve**"
      ],
      "metadata": {
        "id": "RA6gJFyuqnIM"
      }
    },
    {
      "cell_type": "code",
      "source": [
        "\n",
        "\n",
        "#Using the random state number for further learning curve and predictions\n",
        "X_train,X_test,y_train,y_test=train_test_split(X,y,test_size=0.20, random_state=RandomState)\n",
        "\n",
        "#Learning curve\n",
        "# https://nvsyashwanth.github.io/machinelearningmaster/learning-curves/\n",
        "regressor=LinearRegression()\n",
        "regressor.fit(X_train,y_train)\n",
        "predictions=regressor.predict(X_test)\n",
        "plt.figure(1,figsize=(20,10))\n",
        "train_errors=[]\n",
        "val_errors=[]\n",
        "for i in range(1,len(X_train)):\n",
        "    regressor.fit(X_train[:i],y_train[:i])\n",
        "    train_preds=regressor.predict(X_train[:i])\n",
        "    val_preds=regressor.predict(X_test)\n",
        "    train_errors.append(mse(train_preds,y_train[:i]))\n",
        "    val_errors.append(mse(val_preds,y_test))\n",
        "plt.plot(range(1,len(X_train)),np.sqrt(train_errors),label='Training error')\n",
        "plt.plot(range(1,len(X_train)),np.sqrt(val_errors),label='Validation error')\n",
        "plt.title('Learning Curves')    \n",
        "plt.xlabel('Train set (sample) size')\n",
        "plt.ylabel('RMSE')\n",
        "plt.legend()\n",
        "plt.show()"
      ],
      "metadata": {
        "colab": {
          "base_uri": "https://localhost:8080/",
          "height": 617
        },
        "id": "igbPabiMsGqA",
        "outputId": "257ee1f6-3656-4105-d020-3bb2ea0bae6d"
      },
      "execution_count": null,
      "outputs": [
        {
          "output_type": "display_data",
          "data": {
            "text/plain": [
              "<Figure size 1440x720 with 1 Axes>"
            ],
            "image/png": "[encoded data removed]"
          },
          "metadata": {
            "needs_background": "light"
          }
        }
      ]
    },
    {
      "cell_type": "markdown",
      "source": [
        "**8. K-Fold Cross-validation**"
      ],
      "metadata": {
        "id": "hrtIcY1zqzoT"
      }
    },
    {
      "cell_type": "code",
      "source": [
        "params = {'C':[0.01,0.05,0.1,0.5,1,2,5],'epsilon':[0.1,0.2,0.3,0.4,0.5,1]}\n",
        "\n",
        "#Selecting the kernel\n",
        "svr_linear = SVR(kernel='linear')\n",
        "#Select the folds (c) \n",
        "grid = GridSearchCV(svr_linear,param_grid=params,cv=30,scoring='r2',verbose=1,return_train_score=True)\n",
        "grid.fit(X_train,np.ravel(y_train,order=\"c\"))\n",
        "\n",
        "#Best estimator\n",
        "print(grid.best_estimator_)\n",
        "hyperparam_svr= grid.best_estimator_\n",
        "print(hyperparam_svr)\n"
      ],
      "metadata": {
        "id": "zslRPU3AsGsw",
        "colab": {
          "base_uri": "https://localhost:8080/"
        },
        "outputId": "468ce974-5ba8-4ee2-9769-18501a174c99"
      },
      "execution_count": null,
      "outputs": [
        {
          "output_type": "stream",
          "name": "stdout",
          "text": [
            "Fitting 30 folds for each of 42 candidates, totalling 1260 fits\n",
            "SVR(C=0.1, kernel='linear')\n",
            "SVR(C=0.1, kernel='linear')\n"
          ]
        }
      ]
    },
    {
      "cell_type": "code",
      "source": [
        "C= hyperparam_svr.C\n",
        "epsilon= hyperparam_svr.epsilon\n",
        "print(C, epsilon)"
      ],
      "metadata": {
        "colab": {
          "base_uri": "https://localhost:8080/"
        },
        "id": "8DjVG55wpzOW",
        "outputId": "f5e34167-09c1-4ebf-913b-f7c9299a12b4"
      },
      "execution_count": null,
      "outputs": [
        {
          "output_type": "stream",
          "name": "stdout",
          "text": [
            "0.1 0.1\n"
          ]
        }
      ]
    },
    {
      "cell_type": "code",
      "source": [
        "#Fit that estimator to the data\n",
        "svr_best=SVR(kernel='linear',gamma='scale', C=C, epsilon=epsilon)\n",
        "svr_best.fit(X_train,np.ravel(y_train,order=\"c\"))\n",
        "print(\"R2 value for Linear Kernelized SVR:\", svr_best.score(X_test,y_test))\n",
        "print(\"RMSE for Linear kernelized SVR:\",np.sqrt(mean_squared_error(y_test,svr_best.predict(X_test))))"
      ],
      "metadata": {
        "colab": {
          "base_uri": "https://localhost:8080/"
        },
        "id": "RUHhW_C1sG2A",
        "outputId": "fb67eaac-9cbe-473b-eea7-a54621453511"
      },
      "execution_count": null,
      "outputs": [
        {
          "output_type": "stream",
          "name": "stdout",
          "text": [
            "R2 value for Linear Kernelized SVR: 0.9821682750695624\n",
            "RMSE for Linear kernelized SVR: 0.03907903134036004\n"
          ]
        }
      ]
    },
    {
      "cell_type": "markdown",
      "source": [
        "**9. Final Prediction**"
      ],
      "metadata": {
        "id": "_0MIVUCmt6Jv"
      }
    },
    {
      "cell_type": "code",
      "source": [
        "# sc_X = StandardScaler()\n",
        "# sc_y = StandardScaler()\n",
        "# X = sc_X.fit_transform(X_train)\n",
        "#y = sc_y.fit_transform(y_train)\n",
        "\n",
        "sc_X = preprocessing.StandardScaler()\n",
        "sc_y = preprocessing.StandardScaler()\n",
        "X = sc_X.fit_transform(X_train)\n"
      ],
      "metadata": {
        "id": "U5as4ttHsf2f"
      },
      "execution_count": null,
      "outputs": []
    },
    {
      "cell_type": "code",
      "source": [
        "#automatically selecting c and epsilon\n",
        "svr_linear = SVR(kernel='linear',gamma='scale', C=C, epsilon=epsilon)\n",
        "#svr_linear.fit(X_train, y_train) \n",
        "svr_linear.fit(X_train,np.ravel(y_train,order=\"c\"))"
      ],
      "metadata": {
        "colab": {
          "base_uri": "https://localhost:8080/"
        },
        "id": "t656iB4Zsf5o",
        "outputId": "ce60ea27-3236-4aa8-e374-4e2a543da7c8"
      },
      "execution_count": null,
      "outputs": [
        {
          "output_type": "execute_result",
          "data": {
            "text/plain": [
              "SVR(C=0.1, kernel='linear')"
            ]
          },
          "metadata": {},
          "execution_count": 14
        }
      ]
    },
    {
      "cell_type": "code",
      "source": [
        "y"
      ],
      "metadata": {
        "colab": {
          "base_uri": "https://localhost:8080/"
        },
        "id": "NO1J1-kbfStx",
        "outputId": "fedef072-6006-41c7-ca26-be1ae189ed70"
      },
      "execution_count": null,
      "outputs": [
        {
          "output_type": "execute_result",
          "data": {
            "text/plain": [
              "0      1.977770\n",
              "1      1.923205\n",
              "2      1.761687\n",
              "3      1.761687\n",
              "4      1.761687\n",
              "         ...   \n",
              "738    1.923205\n",
              "739    1.923205\n",
              "740    1.907923\n",
              "741    1.761687\n",
              "742    1.761687\n",
              "Name: CarbonEmissions(lb-co2/h), Length: 743, dtype: float64"
            ]
          },
          "metadata": {},
          "execution_count": 15
        }
      ]
    },
    {
      "cell_type": "markdown",
      "source": [
        "**10. Save ML-based Prediction Model**"
      ],
      "metadata": {
        "id": "T76LHgyYuQo3"
      }
    },
    {
      "cell_type": "code",
      "source": [
        "filename = \"/content/drive/MyDrive/MIZZOU/DigitalTwin_AT&T/_2023_DigitalTwinCodes/_20230224_SVR_DecisionTreeScripts/DigitalTwin_SVR_2.joblib\"\n",
        "joblib.dump(svr_linear, filename)"
      ],
      "metadata": {
        "id": "w2YGMdgkub1P",
        "colab": {
          "base_uri": "https://localhost:8080/"
        },
        "outputId": "1bdd431d-b585-4a50-c446-45120e95b00d"
      },
      "execution_count": null,
      "outputs": [
        {
          "output_type": "execute_result",
          "data": {
            "text/plain": [
              "['/content/drive/MyDrive/MIZZOU/DigitalTwin_AT&T/_2023_DigitalTwinCodes/_20230224_SVR_DecisionTreeScripts/DigitalTwin_SVR_2.joblib']"
            ]
          },
          "metadata": {},
          "execution_count": 16
        }
      ]
    },
    {
      "cell_type": "markdown",
      "source": [
        "**11. Load ML-based Prediction Model and check prediction accuracy**"
      ],
      "metadata": {
        "id": "KAVV5m9gvAf2"
      }
    },
    {
      "cell_type": "code",
      "source": [
        "#Import prediction model\n",
        "prediction_model = joblib.load(filename)\n",
        "prediction_model\n",
        "\n",
        "#rerun the prediction after getting the new c and epsilon values\n",
        "y_pred = prediction_model.predict(X_test)\n",
        "WriteData = pd.DataFrame({'Physics-based Modeling Results in lb-CO2/kWh':y_test, 'Machine Learning-based Modeling Results in lb-CO2/kWh':y_pred})\n",
        "print(WriteData)\n",
        "\n",
        "#Accuracy check\n",
        "mae=metrics.mean_absolute_error(y_test, y_pred)\n",
        "mse=metrics.mean_squared_error(y_test, y_pred)\n",
        "rmse = np.sqrt(mse)\n",
        "R_square = metrics.r2_score(y_test, y_pred)\n",
        "# Printing the metrics\n",
        "print('R2 square:',R_square)\n",
        "print('MAE: ', mae)\n",
        "print('MSE: ', mse)\n",
        "print('RMSE: ', rmse)\n"
      ],
      "metadata": {
        "colab": {
          "base_uri": "https://localhost:8080/"
        },
        "id": "LId1kFulsf8n",
        "outputId": "21c9a569-c63a-4097-9ff1-6c16b12689d7"
      },
      "execution_count": null,
      "outputs": [
        {
          "output_type": "stream",
          "name": "stdout",
          "text": [
            "     Physics-based Modeling Results in lb-CO2/kWh  \\\n",
            "579                                      1.761687   \n",
            "105                                      2.733562   \n",
            "301                                      2.306009   \n",
            "587                                      2.393312   \n",
            "741                                      1.761687   \n",
            "..                                            ...   \n",
            "394                                      2.733562   \n",
            "638                                      2.238358   \n",
            "377                                      1.888943   \n",
            "625                                      1.761687   \n",
            "604                                      1.761687   \n",
            "\n",
            "     Machine Learning-based Modeling Results in lb-CO2/kWh  \n",
            "579                                           1.774513      \n",
            "105                                           2.644094      \n",
            "301                                           2.392321      \n",
            "587                                           2.479401      \n",
            "741                                           1.772421      \n",
            "..                                                 ...      \n",
            "394                                           2.672558      \n",
            "638                                           2.288944      \n",
            "377                                           1.873460      \n",
            "625                                           1.781404      \n",
            "604                                           1.782010      \n",
            "\n",
            "[149 rows x 2 columns]\n",
            "R2 square: 0.9821682750695624\n",
            "MAE:  0.029540338111763875\n",
            "MSE:  0.0015271706905008423\n",
            "RMSE:  0.03907903134036004\n"
          ]
        }
      ]
    },
    {
      "cell_type": "code",
      "source": [
        "\n",
        "\n",
        "### Scatter plot\n",
        "\n",
        "# Create scatter plot of true vs predicted values\n",
        "scatter = sns.scatterplot(x='Physics-based Modeling Results in lb-CO2/kWh', y='Machine Learning-based Modeling Results in lb-CO2/kWh', data=WriteData)\n",
        "plt.show()\n",
        "\n",
        "# Create scatter plot of residuals\n",
        "residuals = y_test - y_pred\n",
        "scatter_residual = sns.scatterplot(x=y_pred, y=residuals)\n",
        "plt.show()\n",
        "\n",
        "### Residual Plot\n",
        "\n",
        "import seaborn as sns\n",
        "import matplotlib.pyplot as plt\n",
        "\n",
        "# Create a dataframe to hold the residuals\n",
        "residuals = y_test - y_pred\n",
        "residual_df = pd.DataFrame({'residuals': residuals, 'y_test': y_test})\n",
        "\n",
        "# Create the residual plot using seaborn\n",
        "sns.residplot(x='y_test', y='residuals', data=residual_df, color='blue')\n",
        "\n",
        "# Set the plot title and axis labels\n",
        "plt.title('Residual Plot')\n",
        "plt.xlabel('Actual Values')\n",
        "plt.ylabel('Residuals')\n",
        "plt.show()\n",
        "\n",
        "### Regression plot\n",
        "\n",
        "# Create scatter plot with regression line\n",
        "regression = sns.regplot(x='Physics-based Modeling Results in lb-CO2/kWh', y='Machine Learning-based Modeling Results in lb-CO2/kWh', data=WriteData)\n",
        "plt.show()\n",
        "\n",
        "### Correlation plot\n",
        "\n",
        "corr = WriteData.corr()\n",
        "sns.heatmap(corr, xticklabels=corr.columns, yticklabels=corr.columns, cmap=\"YlGnBu\")\n",
        "plt.show()\n",
        "\n"
      ],
      "metadata": {
        "colab": {
          "base_uri": "https://localhost:8080/",
          "height": 1000
        },
        "id": "KeOnXwtIrxST",
        "outputId": "120de484-edbb-44bc-9fa4-5d989ed935e4"
      },
      "execution_count": null,
      "outputs": [
        {
          "output_type": "display_data",
          "data": {
            "text/plain": [
              "<Figure size 432x288 with 1 Axes>"
            ],
            "image/png": "[encoded data removed]"
          },
          "metadata": {
            "needs_background": "light"
          }
        },
        {
          "output_type": "display_data",
          "data": {
            "text/plain": [
              "<Figure size 432x288 with 1 Axes>"
            ],
            "image/png": "[encoded data removed]"
          },
          "metadata": {
            "needs_background": "light"
          }
        },
        {
          "output_type": "display_data",
          "data": {
            "text/plain": [
              "<Figure size 432x288 with 1 Axes>"
            ],
            "image/png": "[encoded data removed]"
          },
          "metadata": {
            "needs_background": "light"
          }
        },
        {
          "output_type": "display_data",
          "data": {
            "text/plain": [
              "<Figure size 432x288 with 1 Axes>"
            ],
            "image/png": "[encoded data removed]"
          },
          "metadata": {
            "needs_background": "light"
          }
        },
        {
          "output_type": "display_data",
          "data": {
            "text/plain": [
              "<Figure size 432x288 with 2 Axes>"
            ],
            "image/png": "[encoded data removed]"
          },
          "metadata": {
            "needs_background": "light"
          }
        }
      ]
    }
  ]
}