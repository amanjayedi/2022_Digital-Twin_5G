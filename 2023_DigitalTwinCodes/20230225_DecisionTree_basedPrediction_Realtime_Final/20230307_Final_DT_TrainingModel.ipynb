{
  "nbformat": 4,
  "nbformat_minor": 0,
  "metadata": {
    "colab": {
      "provenance": []
    },
    "kernelspec": {
      "name": "python3",
      "display_name": "Python 3"
    },
    "language_info": {
      "name": "python"
    },
    "gpuClass": "standard",
    "accelerator": "GPU"
  },
  "cells": [
    {
      "cell_type": "markdown",
      "source": [
        "**1. importing file from drive to content**"
      ],
      "metadata": {
        "id": "ym39KT2C2PtV"
      }
    },
    {
      "cell_type": "code",
      "source": [
        "from google.colab import drive\n",
        "drive.mount('/content/drive')"
      ],
      "metadata": {
        "colab": {
          "base_uri": "https://localhost:8080/"
        },
        "id": "RMbZM7I0eV6H",
        "outputId": "6ea59d68-0ccb-49e2-89b8-3fca0c2bc659"
      },
      "execution_count": 1,
      "outputs": [
        {
          "output_type": "stream",
          "name": "stdout",
          "text": [
            "Mounted at /content/drive\n"
          ]
        }
      ]
    },
    {
      "cell_type": "code",
      "source": [
        "!nvidia-smi\n"
      ],
      "metadata": {
        "colab": {
          "base_uri": "https://localhost:8080/"
        },
        "id": "yMiKoRJM0UmV",
        "outputId": "2d01a799-7590-4e0b-ff8f-fcbb21e3daa1"
      },
      "execution_count": 2,
      "outputs": [
        {
          "output_type": "stream",
          "name": "stdout",
          "text": [
            "Tue Mar  7 19:51:08 2023       \n",
            "+-----------------------------------------------------------------------------+\n",
            "| NVIDIA-SMI 525.85.12    Driver Version: 525.85.12    CUDA Version: 12.0     |\n",
            "|-------------------------------+----------------------+----------------------+\n",
            "| GPU  Name        Persistence-M| Bus-Id        Disp.A | Volatile Uncorr. ECC |\n",
            "| Fan  Temp  Perf  Pwr:Usage/Cap|         Memory-Usage | GPU-Util  Compute M. |\n",
            "|                               |                      |               MIG M. |\n",
            "|===============================+======================+======================|\n",
            "|   0  Tesla T4            Off  | 00000000:00:04.0 Off |                    0 |\n",
            "| N/A   46C    P0    25W /  70W |      0MiB / 15360MiB |      0%      Default |\n",
            "|                               |                      |                  N/A |\n",
            "+-------------------------------+----------------------+----------------------+\n",
            "                                                                               \n",
            "+-----------------------------------------------------------------------------+\n",
            "| Processes:                                                                  |\n",
            "|  GPU   GI   CI        PID   Type   Process name                  GPU Memory |\n",
            "|        ID   ID                                                   Usage      |\n",
            "|=============================================================================|\n",
            "|  No running processes found                                                 |\n",
            "+-----------------------------------------------------------------------------+\n"
          ]
        }
      ]
    },
    {
      "cell_type": "markdown",
      "source": [
        "**2. Calling all libraries"
      ],
      "metadata": {
        "id": "4ofUFuLp2YZM"
      }
    },
    {
      "cell_type": "code",
      "source": [
        "import numpy as np\n",
        "import pandas as pd\n",
        "import matplotlib.pyplot as plt\n",
        "\n",
        "from sklearn.model_selection import train_test_split, GridSearchCV\n",
        "from sklearn.utils.fixes import sklearn\n",
        "from sklearn import preprocessing, utils\n",
        "from sklearn.linear_model import LinearRegression\n",
        "from sklearn.metrics import mean_squared_error\n",
        "import seaborn as sns\n",
        "from sklearn import preprocessing\n",
        "from sklearn import utils\n",
        "\n",
        "\n",
        "import joblib\n",
        "from sklearn import metrics\n",
        "from sklearn.metrics import r2_score\n",
        "from sklearn.metrics import mean_squared_error as mse\n",
        "\n",
        "import seaborn as sns"
      ],
      "metadata": {
        "id": "FQCvbLLSp98v"
      },
      "execution_count": 3,
      "outputs": []
    },
    {
      "cell_type": "code",
      "source": [],
      "metadata": {
        "id": "gBI064IW5v7P"
      },
      "execution_count": 3,
      "outputs": []
    },
    {
      "cell_type": "code",
      "source": [
        "import numpy as np\n",
        "import pandas as pd\n",
        "from sklearn.tree import DecisionTreeRegressor\n",
        "from sklearn.model_selection import train_test_split\n"
      ],
      "metadata": {
        "id": "15V0pfXg5v92"
      },
      "execution_count": 4,
      "outputs": []
    },
    {
      "cell_type": "markdown",
      "source": [
        "**3. Reading csv file using pandas dataframe**"
      ],
      "metadata": {
        "id": "85jwtBNV2irg"
      }
    },
    {
      "cell_type": "code",
      "source": [
        "df = pd.read_csv('/content/drive/MyDrive/MIZZOU/DigitalTwin_AT&T/_2023_DigitalTwinCodes/_20230224_SVR_DecisionTreeScripts/20230224_weather_OccupancyBased.csv')\n",
        "df = df.iloc[:743,1:] #sparsing columns and rows\n",
        "print(df.head(3))\n",
        "df.columns"
      ],
      "metadata": {
        "colab": {
          "base_uri": "https://localhost:8080/"
        },
        "id": "HrpzUMCx_bub",
        "outputId": "551cb4ee-6e44-45fb-b7ba-1267ec7d5392"
      },
      "execution_count": 5,
      "outputs": [
        {
          "output_type": "stream",
          "name": "stdout",
          "text": [
            "    id       timestamp             Day  Temperature (degC)  Humidity (%)  \\\n",
            "0  0.0  10/1/2022 0:00  10/1/2022 0:00               11.06          71.0   \n",
            "1  1.0  10/1/2022 1:00  10/1/2022 1:00                9.83          77.0   \n",
            "2  2.0  10/1/2022 2:00  10/1/2022 2:00                8.50          82.0   \n",
            "\n",
            "   Wind Speed (m/s)  Wind Direction (deg)  Pressure (hPa)  PeopleCount(p)  \\\n",
            "0               1.0                  96.0          1020.0            10.0   \n",
            "1               1.0                  90.0          1020.0             4.0   \n",
            "2               1.0                  92.0          1020.0             0.0   \n",
            "\n",
            "   PeoplePerArea(p/m2)  LightingPower(W)  LightingPowerIntensity(W/m2)  \\\n",
            "0             0.038662             300.0                      1.159869   \n",
            "1             0.015465             300.0                      1.159869   \n",
            "2             0.000000               0.0                      0.000000   \n",
            "\n",
            "   EquipmentLoad(W)  EquipmentPowerIntensity(W/m2)  VentilationRate (m3/s)  \\\n",
            "0              87.4                       0.337908                 0.27120   \n",
            "1              81.4                       0.314711                 0.18648   \n",
            "2              77.4                       0.299246                 0.13000   \n",
            "\n",
            "        ACH  CarbonEmissions(lb-co2/h)  \n",
            "0  1.034237                   1.977770  \n",
            "1  0.711153                   1.923205  \n",
            "2  0.495763                   1.761687  \n"
          ]
        },
        {
          "output_type": "execute_result",
          "data": {
            "text/plain": [
              "Index(['id', 'timestamp', 'Day', 'Temperature (degC)', 'Humidity (%)',\n",
              "       'Wind Speed (m/s)', 'Wind Direction (deg)', 'Pressure (hPa)',\n",
              "       'PeopleCount(p)', 'PeoplePerArea(p/m2)', 'LightingPower(W)',\n",
              "       'LightingPowerIntensity(W/m2)', 'EquipmentLoad(W)',\n",
              "       'EquipmentPowerIntensity(W/m2)', 'VentilationRate (m3/s)', 'ACH',\n",
              "       'CarbonEmissions(lb-co2/h)'],\n",
              "      dtype='object')"
            ]
          },
          "metadata": {},
          "execution_count": 5
        }
      ]
    },
    {
      "cell_type": "markdown",
      "source": [
        "**4. Removing unwanted columns from the dataset**"
      ],
      "metadata": {
        "id": "7es6P4cW2yTa"
      }
    },
    {
      "cell_type": "code",
      "source": [
        "df.drop(['id', 'timestamp', 'Day','PeopleCount(p)','LightingPower(W)','EquipmentLoad(W)','VentilationRate (m3/s)'], axis =1, inplace=True)\n",
        "df.head(3)"
      ],
      "metadata": {
        "colab": {
          "base_uri": "https://localhost:8080/",
          "height": 143
        },
        "id": "N4zGXj-6t9TD",
        "outputId": "d1703752-c263-4982-84ff-ba160ca4b1b0"
      },
      "execution_count": 6,
      "outputs": [
        {
          "output_type": "execute_result",
          "data": {
            "text/plain": [
              "   Temperature (degC)  Humidity (%)  Wind Speed (m/s)  Wind Direction (deg)  \\\n",
              "0               11.06          71.0               1.0                  96.0   \n",
              "1                9.83          77.0               1.0                  90.0   \n",
              "2                8.50          82.0               1.0                  92.0   \n",
              "\n",
              "   Pressure (hPa)  PeoplePerArea(p/m2)  LightingPowerIntensity(W/m2)  \\\n",
              "0          1020.0             0.038662                      1.159869   \n",
              "1          1020.0             0.015465                      1.159869   \n",
              "2          1020.0             0.000000                      0.000000   \n",
              "\n",
              "   EquipmentPowerIntensity(W/m2)       ACH  CarbonEmissions(lb-co2/h)  \n",
              "0                       0.337908  1.034237                   1.977770  \n",
              "1                       0.314711  0.711153                   1.923205  \n",
              "2                       0.299246  0.495763                   1.761687  "
            ],
            "text/html": [
              "\n",
              "  <div id=\"df-f5dd9358-d49d-4a40-9986-9642e162ee2b\">\n",
              "    <div class=\"colab-df-container\">\n",
              "      <div>\n",
              "<style scoped>\n",
              "    .dataframe tbody tr th:only-of-type {\n",
              "        vertical-align: middle;\n",
              "    }\n",
              "\n",
              "    .dataframe tbody tr th {\n",
              "        vertical-align: top;\n",
              "    }\n",
              "\n",
              "    .dataframe thead th {\n",
              "        text-align: right;\n",
              "    }\n",
              "</style>\n",
              "<table border=\"1\" class=\"dataframe\">\n",
              "  <thead>\n",
              "    <tr style=\"text-align: right;\">\n",
              "      <th></th>\n",
              "      <th>Temperature (degC)</th>\n",
              "      <th>Humidity (%)</th>\n",
              "      <th>Wind Speed (m/s)</th>\n",
              "      <th>Wind Direction (deg)</th>\n",
              "      <th>Pressure (hPa)</th>\n",
              "      <th>PeoplePerArea(p/m2)</th>\n",
              "      <th>LightingPowerIntensity(W/m2)</th>\n",
              "      <th>EquipmentPowerIntensity(W/m2)</th>\n",
              "      <th>ACH</th>\n",
              "      <th>CarbonEmissions(lb-co2/h)</th>\n",
              "    </tr>\n",
              "  </thead>\n",
              "  <tbody>\n",
              "    <tr>\n",
              "      <th>0</th>\n",
              "      <td>11.06</td>\n",
              "      <td>71.0</td>\n",
              "      <td>1.0</td>\n",
              "      <td>96.0</td>\n",
              "      <td>1020.0</td>\n",
              "      <td>0.038662</td>\n",
              "      <td>1.159869</td>\n",
              "      <td>0.337908</td>\n",
              "      <td>1.034237</td>\n",
              "      <td>1.977770</td>\n",
              "    </tr>\n",
              "    <tr>\n",
              "      <th>1</th>\n",
              "      <td>9.83</td>\n",
              "      <td>77.0</td>\n",
              "      <td>1.0</td>\n",
              "      <td>90.0</td>\n",
              "      <td>1020.0</td>\n",
              "      <td>0.015465</td>\n",
              "      <td>1.159869</td>\n",
              "      <td>0.314711</td>\n",
              "      <td>0.711153</td>\n",
              "      <td>1.923205</td>\n",
              "    </tr>\n",
              "    <tr>\n",
              "      <th>2</th>\n",
              "      <td>8.50</td>\n",
              "      <td>82.0</td>\n",
              "      <td>1.0</td>\n",
              "      <td>92.0</td>\n",
              "      <td>1020.0</td>\n",
              "      <td>0.000000</td>\n",
              "      <td>0.000000</td>\n",
              "      <td>0.299246</td>\n",
              "      <td>0.495763</td>\n",
              "      <td>1.761687</td>\n",
              "    </tr>\n",
              "  </tbody>\n",
              "</table>\n",
              "</div>\n",
              "      <button class=\"colab-df-convert\" onclick=\"convertToInteractive('df-f5dd9358-d49d-4a40-9986-9642e162ee2b')\"\n",
              "              title=\"Convert this dataframe to an interactive table.\"\n",
              "              style=\"display:none;\">\n",
              "        \n",
              "  <svg xmlns=\"http://www.w3.org/2000/svg\" height=\"24px\"viewBox=\"0 0 24 24\"\n",
              "       width=\"24px\">\n",
              "    <path d=\"M0 0h24v24H0V0z\" fill=\"none\"/>\n",
              "    <path d=\"M18.56 5.44l.94 2.06.94-2.06 2.06-.94-2.06-.94-.94-2.06-.94 2.06-2.06.94zm-11 1L8.5 8.5l.94-2.06 2.06-.94-2.06-.94L8.5 2.5l-.94 2.06-2.06.94zm10 10l.94 2.06.94-2.06 2.06-.94-2.06-.94-.94-2.06-.94 2.06-2.06.94z\"/><path d=\"M17.41 7.96l-1.37-1.37c-.4-.4-.92-.59-1.43-.59-.52 0-1.04.2-1.43.59L10.3 9.45l-7.72 7.72c-.78.78-.78 2.05 0 2.83L4 21.41c.39.39.9.59 1.41.59.51 0 1.02-.2 1.41-.59l7.78-7.78 2.81-2.81c.8-.78.8-2.07 0-2.86zM5.41 20L4 18.59l7.72-7.72 1.47 1.35L5.41 20z\"/>\n",
              "  </svg>\n",
              "      </button>\n",
              "      \n",
              "  <style>\n",
              "    .colab-df-container {\n",
              "      display:flex;\n",
              "      flex-wrap:wrap;\n",
              "      gap: 12px;\n",
              "    }\n",
              "\n",
              "    .colab-df-convert {\n",
              "      background-color: #E8F0FE;\n",
              "      border: none;\n",
              "      border-radius: 50%;\n",
              "      cursor: pointer;\n",
              "      display: none;\n",
              "      fill: #1967D2;\n",
              "      height: 32px;\n",
              "      padding: 0 0 0 0;\n",
              "      width: 32px;\n",
              "    }\n",
              "\n",
              "    .colab-df-convert:hover {\n",
              "      background-color: #E2EBFA;\n",
              "      box-shadow: 0px 1px 2px rgba(60, 64, 67, 0.3), 0px 1px 3px 1px rgba(60, 64, 67, 0.15);\n",
              "      fill: #174EA6;\n",
              "    }\n",
              "\n",
              "    [theme=dark] .colab-df-convert {\n",
              "      background-color: #3B4455;\n",
              "      fill: #D2E3FC;\n",
              "    }\n",
              "\n",
              "    [theme=dark] .colab-df-convert:hover {\n",
              "      background-color: #434B5C;\n",
              "      box-shadow: 0px 1px 3px 1px rgba(0, 0, 0, 0.15);\n",
              "      filter: drop-shadow(0px 1px 2px rgba(0, 0, 0, 0.3));\n",
              "      fill: #FFFFFF;\n",
              "    }\n",
              "  </style>\n",
              "\n",
              "      <script>\n",
              "        const buttonEl =\n",
              "          document.querySelector('#df-f5dd9358-d49d-4a40-9986-9642e162ee2b button.colab-df-convert');\n",
              "        buttonEl.style.display =\n",
              "          google.colab.kernel.accessAllowed ? 'block' : 'none';\n",
              "\n",
              "        async function convertToInteractive(key) {\n",
              "          const element = document.querySelector('#df-f5dd9358-d49d-4a40-9986-9642e162ee2b');\n",
              "          const dataTable =\n",
              "            await google.colab.kernel.invokeFunction('convertToInteractive',\n",
              "                                                     [key], {});\n",
              "          if (!dataTable) return;\n",
              "\n",
              "          const docLinkHtml = 'Like what you see? Visit the ' +\n",
              "            '<a target=\"_blank\" href=https://colab.research.google.com/notebooks/data_table.ipynb>data table notebook</a>'\n",
              "            + ' to learn more about interactive tables.';\n",
              "          element.innerHTML = '';\n",
              "          dataTable['output_type'] = 'display_data';\n",
              "          await google.colab.output.renderOutput(dataTable, element);\n",
              "          const docLink = document.createElement('div');\n",
              "          docLink.innerHTML = docLinkHtml;\n",
              "          element.appendChild(docLink);\n",
              "        }\n",
              "      </script>\n",
              "    </div>\n",
              "  </div>\n",
              "  "
            ]
          },
          "metadata": {},
          "execution_count": 6
        }
      ]
    },
    {
      "cell_type": "markdown",
      "source": [
        "**5. Taking X for input of ML and y for output**"
      ],
      "metadata": {
        "id": "oksN1cXJ3OmI"
      }
    },
    {
      "cell_type": "code",
      "source": [
        "#X = df[['PeoplePerArea(p/m2)','LightingPowerIntensity(W/m2)','EquipmentPowerIntensity(W/m2)','ACH']]\n",
        "X = df[['Temperature (degC)','Humidity (%)','Wind Speed (m/s)','Wind Direction (deg)','Pressure (hPa)','PeoplePerArea(p/m2)','LightingPowerIntensity(W/m2)','EquipmentPowerIntensity(W/m2)','ACH']]\n",
        "y = df['CarbonEmissions(lb-co2/h)']\n"
      ],
      "metadata": {
        "id": "fzi5n6bp0JQW"
      },
      "execution_count": 7,
      "outputs": []
    },
    {
      "cell_type": "code",
      "source": [
        "y"
      ],
      "metadata": {
        "colab": {
          "base_uri": "https://localhost:8080/"
        },
        "id": "JuPbunswfwhh",
        "outputId": "4e018aa4-b568-4299-c18d-647e31890491"
      },
      "execution_count": 8,
      "outputs": [
        {
          "output_type": "execute_result",
          "data": {
            "text/plain": [
              "0      1.977770\n",
              "1      1.923205\n",
              "2      1.761687\n",
              "3      1.761687\n",
              "4      1.761687\n",
              "         ...   \n",
              "738    1.923205\n",
              "739    1.923205\n",
              "740    1.907923\n",
              "741    1.761687\n",
              "742    1.761687\n",
              "Name: CarbonEmissions(lb-co2/h), Length: 743, dtype: float64"
            ]
          },
          "metadata": {},
          "execution_count": 8
        }
      ]
    },
    {
      "cell_type": "markdown",
      "source": [
        "**6. Random State**"
      ],
      "metadata": {
        "id": "KIjylMPeqiw1"
      }
    },
    {
      "cell_type": "code",
      "source": [
        "\n",
        "# # Array of random_state values from 0 to 400\n",
        "# random_states = np.arange(start=0, stop=5000)\n",
        "\n",
        "# # Initialize a list where we'll store the score of each random_state\n",
        "# scores = []\n",
        "\n",
        "# # Initialize search\n",
        "# for state in random_states:\n",
        "#     X_train,X_test,y_train,y_test=train_test_split(X,y,test_size=0.20, random_state=state)\n",
        "#     svr_linear = SVR(kernel='linear',gamma='scale', C=5, epsilon=0.3)\n",
        "#     svr_linear.fit(X_train,y_train)\n",
        "#     scores.append(svr_linear.score(X_test, y_test))\n",
        "\n",
        "# results = pd.DataFrame({'random_state':random_states, 'score':scores})\n",
        "# RandomState_df = results[results['score'] == results['score'].max()]\n",
        "# RandomState = RandomState_df.iloc[0][0].astype(int)\n",
        "# print(\"The best Random State Value of this dataset is:\", RandomState)"
      ],
      "metadata": {
        "id": "aE9j-Bz5sGnQ"
      },
      "execution_count": 9,
      "outputs": []
    },
    {
      "cell_type": "code",
      "source": [
        "# Array of random_state values from 0 to 5000\n",
        "random_states = np.arange(start=0, stop=5000)\n",
        "\n",
        "# Initialize a list where we'll store the score of each random_state\n",
        "scores = []\n",
        "\n",
        "# Initialize search\n",
        "for state in random_states:\n",
        "    # Split the data into training and testing sets using the random_state value\n",
        "    X_train, X_test, y_train, y_test = train_test_split(X, y, test_size=0.2, random_state=state)\n",
        "    \n",
        "    # Train the Decision Tree model\n",
        "    dt = DecisionTreeRegressor(max_depth=5, min_samples_leaf=5, random_state=0)\n",
        "    dt.fit(X_train, y_train)\n",
        "    \n",
        "    # Calculate the score on the testing set and append to scores list\n",
        "    score = dt.score(X_test, y_test)\n",
        "    scores.append(score)\n",
        "\n",
        "# Create a dataframe of the results\n",
        "results = pd.DataFrame({'random_state': random_states, 'score': scores})\n",
        "\n",
        "# Find the random state with the highest score\n",
        "best_random_state = results.loc[results['score'].idxmax(), 'random_state']\n",
        "print(\"Best Random State:\", best_random_state)\n"
      ],
      "metadata": {
        "colab": {
          "base_uri": "https://localhost:8080/"
        },
        "id": "zObULdDX5rnK",
        "outputId": "eb6f8237-d2c7-493d-f1b5-aab4b616d170"
      },
      "execution_count": 10,
      "outputs": [
        {
          "output_type": "stream",
          "name": "stdout",
          "text": [
            "Best Random State: 2365\n"
          ]
        }
      ]
    },
    {
      "cell_type": "markdown",
      "source": [
        "**7. Learning Curve**"
      ],
      "metadata": {
        "id": "RA6gJFyuqnIM"
      }
    },
    {
      "cell_type": "code",
      "source": [
        "\n",
        "\n",
        "# #Using the random state number for further learning curve and predictions\n",
        "# X_train,X_test,y_train,y_test=train_test_split(X,y,test_size=0.20, random_state=RandomState)\n",
        "\n",
        "# #Learning curve\n",
        "# # https://nvsyashwanth.github.io/machinelearningmaster/learning-curves/\n",
        "# regressor=LinearRegression()\n",
        "# regressor.fit(X_train,y_train)\n",
        "# predictions=regressor.predict(X_test)\n",
        "# plt.figure(1,figsize=(20,10))\n",
        "# train_errors=[]\n",
        "# val_errors=[]\n",
        "# for i in range(1,len(X_train)):\n",
        "#     regressor.fit(X_train[:i],y_train[:i])\n",
        "#     train_preds=regressor.predict(X_train[:i])\n",
        "#     val_preds=regressor.predict(X_test)\n",
        "#     train_errors.append(mse(train_preds,y_train[:i]))\n",
        "#     val_errors.append(mse(val_preds,y_test))\n",
        "# plt.plot(range(1,len(X_train)),np.sqrt(train_errors),label='Training error')\n",
        "# plt.plot(range(1,len(X_train)),np.sqrt(val_errors),label='Validation error')\n",
        "# plt.title('Learning Curves')    \n",
        "# plt.xlabel('Train set (sample) size')\n",
        "# plt.ylabel('RMSE')\n",
        "# plt.legend()\n",
        "# plt.show()"
      ],
      "metadata": {
        "id": "igbPabiMsGqA"
      },
      "execution_count": 11,
      "outputs": []
    },
    {
      "cell_type": "code",
      "source": [
        "\n",
        "\n",
        "#Using the random state number for further learning curve and predictions\n",
        "X_train,X_test,y_train,y_test=train_test_split(X,y,test_size=0.20, random_state=best_random_state)\n",
        "\n",
        "#Learning curve\n",
        "# https://nvsyashwanth.github.io/machinelearningmaster/learning-curves/\n",
        "regressor = DecisionTreeRegressor(random_state=best_random_state)\n",
        "regressor.fit(X_train,y_train)\n",
        "predictions = regressor.predict(X_test)\n",
        "\n",
        "plt.figure(1,figsize=(20,10))\n",
        "train_errors=[]\n",
        "val_errors=[]\n",
        "for i in range(1,len(X_train)):\n",
        "    regressor.fit(X_train[:i],y_train[:i])\n",
        "    train_preds=regressor.predict(X_train[:i])\n",
        "    val_preds=regressor.predict(X_test)\n",
        "    train_errors.append(mse(train_preds,y_train[:i]))\n",
        "    val_errors.append(mse(val_preds,y_test))\n",
        "plt.plot(range(1,len(X_train)),np.sqrt(train_errors),label='Training error')\n",
        "plt.plot(range(1,len(X_train)),np.sqrt(val_errors),label='Validation error')\n",
        "plt.title('Learning Curves')    \n",
        "plt.xlabel('Train set (sample) size')\n",
        "plt.ylabel('RMSE')\n",
        "plt.legend()\n",
        "plt.show()\n"
      ],
      "metadata": {
        "colab": {
          "base_uri": "https://localhost:8080/",
          "height": 621
        },
        "id": "iIoHlYzH7Hff",
        "outputId": "1d7d17f6-c87d-48fd-ccfb-2c5d9aea7353"
      },
      "execution_count": 12,
      "outputs": [
        {
          "output_type": "display_data",
          "data": {
            "text/plain": [
              "<Figure size 1440x720 with 1 Axes>"
            ],
            "image/png": "[encoded data removed]"
          },
          "metadata": {
            "needs_background": "light"
          }
        }
      ]
    },
    {
      "cell_type": "markdown",
      "source": [
        "**8. K-Fold Cross-validation**"
      ],
      "metadata": {
        "id": "hrtIcY1zqzoT"
      }
    },
    {
      "cell_type": "code",
      "source": [
        "# params = {'C':[0.01,0.05,0.1,0.5,1,2,5],'epsilon':[0.1,0.2,0.3,0.4,0.5,1]}\n",
        "\n",
        "# #Selecting the kernel\n",
        "# svr_linear = SVR(kernel='linear')\n",
        "# #Select the folds (c) \n",
        "# grid = GridSearchCV(svr_linear,param_grid=params,cv=30,scoring='r2',verbose=1,return_train_score=True)\n",
        "# grid.fit(X_train,np.ravel(y_train,order=\"c\"))\n",
        "\n",
        "# #Best estimator\n",
        "# print(grid.best_estimator_)\n",
        "# hyperparam_svr= grid.best_estimator_\n",
        "# print(hyperparam_svr)\n"
      ],
      "metadata": {
        "id": "zslRPU3AsGsw"
      },
      "execution_count": 13,
      "outputs": []
    },
    {
      "cell_type": "code",
      "source": [
        "# Define the hyperparameters to search\n",
        "params = {'max_depth': [3, 5, 7, 10],\n",
        "          'min_samples_split': [2, 5, 10, 20],\n",
        "          'max_features': [2, 4, 6, 8],\n",
        "          'max_leaf_nodes': [None, 5, 10, 20],\n",
        "          'min_samples_leaf': [1, 2, 4, 8]}\n",
        "\n",
        "# Initialize the model and grid search\n",
        "regressor = DecisionTreeRegressor(random_state=42)\n",
        "grid = GridSearchCV(regressor, param_grid=params, cv=10, scoring='neg_mean_squared_error', verbose=1, n_jobs=-1)\n",
        "\n",
        "# Fit the grid search to the data\n",
        "grid.fit(X_train, y_train)\n",
        "\n",
        "# Print the best parameters and score\n",
        "print(\"Best parameters: \", grid.best_params_)\n",
        "print(\"Best score: \", grid.best_score_)\n",
        "\n",
        "# Train the model using the best parameters\n",
        "best_regressor = DecisionTreeRegressor(random_state=best_random_state, **grid.best_params_)\n",
        "best_regressor.fit(X_train, y_train)\n",
        "y_pred = best_regressor.predict(X_test)\n",
        "\n",
        "# Calculate metrics\n",
        "mse = metrics.mean_squared_error(y_test, y_pred)\n",
        "rmse = np.sqrt(mse)\n",
        "r2 = metrics.r2_score(y_test, y_pred)\n",
        "\n",
        "# Print the metrics\n",
        "print(\"MSE: \", mse)\n",
        "print(\"RMSE: \", rmse)\n",
        "print(\"R^2: \", r2)\n"
      ],
      "metadata": {
        "colab": {
          "base_uri": "https://localhost:8080/"
        },
        "id": "c0VFxP6t9ftX",
        "outputId": "e2c07bed-7e1a-4e49-8e4f-de9c9850b102"
      },
      "execution_count": 14,
      "outputs": [
        {
          "output_type": "stream",
          "name": "stdout",
          "text": [
            "Fitting 10 folds for each of 1024 candidates, totalling 10240 fits\n",
            "Best parameters:  {'max_depth': 7, 'max_features': 6, 'max_leaf_nodes': None, 'min_samples_leaf': 1, 'min_samples_split': 2}\n",
            "Best score:  -7.0805355737851415e-06\n",
            "MSE:  1.4240275118275854e-09\n",
            "RMSE:  3.773628905745218e-05\n",
            "R^2:  0.9999999809511951\n"
          ]
        }
      ]
    },
    {
      "cell_type": "code",
      "source": [
        "hyperparams_best = grid.best_params_\n",
        "hyperparams_best"
      ],
      "metadata": {
        "colab": {
          "base_uri": "https://localhost:8080/"
        },
        "id": "dfnUOLhy95sN",
        "outputId": "69663242-a963-4bbe-a528-69084f6d33af"
      },
      "execution_count": 15,
      "outputs": [
        {
          "output_type": "execute_result",
          "data": {
            "text/plain": [
              "{'max_depth': 7,\n",
              " 'max_features': 6,\n",
              " 'max_leaf_nodes': None,\n",
              " 'min_samples_leaf': 1,\n",
              " 'min_samples_split': 2}"
            ]
          },
          "metadata": {},
          "execution_count": 15
        }
      ]
    },
    {
      "cell_type": "code",
      "source": [
        "# Use the hyperparameters for prediction\n",
        "decision_tree = DecisionTreeRegressor(**hyperparams_best)\n",
        "decision_tree.fit(X_train, y_train)\n",
        "predictions = decision_tree.predict(X_test)\n"
      ],
      "metadata": {
        "id": "gS8sd8Dg-wkG"
      },
      "execution_count": 16,
      "outputs": []
    },
    {
      "cell_type": "code",
      "source": [
        "# #Fit that estimator to the data\n",
        "# svr_best=SVR(kernel='linear',gamma='scale', C=C, epsilon=epsilon)\n",
        "# svr_best.fit(X_train,np.ravel(y_train,order=\"c\"))\n",
        "# print(\"R2 value for Linear Kernelized SVR:\", svr_best.score(X_test,y_test))\n",
        "# print(\"RMSE for Linear kernelized SVR:\",np.sqrt(mean_squared_error(y_test,svr_best.predict(X_test))))"
      ],
      "metadata": {
        "id": "RUHhW_C1sG2A"
      },
      "execution_count": 17,
      "outputs": []
    },
    {
      "cell_type": "code",
      "source": [
        "# Use the best hyperparameters to create a new decision tree model\n",
        "dt_model = DecisionTreeRegressor(random_state=best_random_state, **hyperparams_best)\n",
        "\n",
        "# Train the model on the training data\n",
        "dt_model.fit(X_train, y_train)\n",
        "\n",
        "# Use the trained model to make predictions on the test data\n",
        "y_pred = dt_model.predict(X_test)\n",
        "\n",
        "# Calculate R2 and RMSE for the model's predictions\n",
        "r2 = r2_score(y_test, y_pred)\n",
        "rmse = mean_squared_error(y_test, y_pred, squared=False)\n",
        "\n",
        "\n",
        "# Print the model's performance metrics\n",
        "print(\"R2 value for Decision Tree Regressor:\", r2)\n",
        "print(\"RMSE for Decision Tree Regressor:\", rmse)\n",
        "#print(\"RMSE for Decision Tree Regressor: {:.2f}\".format(round(rmse, 2)))"
      ],
      "metadata": {
        "colab": {
          "base_uri": "https://localhost:8080/"
        },
        "id": "9thrp8I5_IEc",
        "outputId": "f83d92b9-4bd7-42e3-c758-3afeee9071d8"
      },
      "execution_count": 18,
      "outputs": [
        {
          "output_type": "stream",
          "name": "stdout",
          "text": [
            "R2 value for Decision Tree Regressor: 0.9999999809511951\n",
            "RMSE for Decision Tree Regressor: 3.773628905745218e-05\n"
          ]
        }
      ]
    },
    {
      "cell_type": "markdown",
      "source": [
        "**9. Final Prediction**"
      ],
      "metadata": {
        "id": "_0MIVUCmt6Jv"
      }
    },
    {
      "cell_type": "code",
      "source": [
        "# sc_X = StandardScaler()\n",
        "# sc_y = StandardScaler()\n",
        "# X = sc_X.fit_transform(X_train)\n",
        "#y = sc_y.fit_transform(y_train)\n",
        "\n",
        "sc_X = preprocessing.StandardScaler()\n",
        "sc_y = preprocessing.StandardScaler()\n",
        "X = sc_X.fit_transform(X_train)\n"
      ],
      "metadata": {
        "id": "U5as4ttHsf2f"
      },
      "execution_count": 19,
      "outputs": []
    },
    {
      "cell_type": "code",
      "source": [
        "# #automatically selecting c and epsilon\n",
        "# svr_linear = SVR(kernel='linear',gamma='scale', C=C, epsilon=epsilon)\n",
        "# #svr_linear.fit(X_train, y_train) \n",
        "# svr_linear.fit(X_train,np.ravel(y_train,order=\"c\"))"
      ],
      "metadata": {
        "id": "t656iB4Zsf5o"
      },
      "execution_count": 20,
      "outputs": []
    },
    {
      "cell_type": "code",
      "source": [
        "from sklearn.tree import DecisionTreeRegressor\n",
        "\n",
        "# Initialize the decision tree regressor with the best hyperparameters\n",
        "# dt_regressor = DecisionTreeRegressor(max_depth=max_depth, min_samples_split=min_samples_split, max_features=max_features, max_leaf_nodes=max_leaf_nodes, min_samples_leaf=min_samples_leaf)\n",
        "dt_regressor = DecisionTreeRegressor(**hyperparams_best)\n",
        "\n",
        "# Fit the decision tree to the training data\n",
        "dt_regressor.fit(X_train, y_train)\n",
        "\n",
        "# Get the R2 score for the decision tree\n",
        "r2 = dt_regressor.score(X_test, y_test)\n",
        "\n",
        "# Get the root mean squared error for the decision tree\n",
        "y_pred = dt_regressor.predict(X_test)\n",
        "rmse = mean_squared_error(y_test, y_pred, squared=False)\n",
        "\n",
        "# Print the results\n",
        "print(\"R2 value for decision tree:\", r2)\n",
        "print(\"RMSE for decision tree:\", rmse)\n"
      ],
      "metadata": {
        "colab": {
          "base_uri": "https://localhost:8080/"
        },
        "id": "kJQQ06M7Am_Y",
        "outputId": "30c5b0cf-7205-4d8e-94a9-6e74a47ec1cf"
      },
      "execution_count": 21,
      "outputs": [
        {
          "output_type": "stream",
          "name": "stdout",
          "text": [
            "R2 value for decision tree: 0.9999948394424963\n",
            "RMSE for decision tree: 0.0006211173121482527\n"
          ]
        }
      ]
    },
    {
      "cell_type": "code",
      "source": [
        "y"
      ],
      "metadata": {
        "colab": {
          "base_uri": "https://localhost:8080/"
        },
        "id": "NO1J1-kbfStx",
        "outputId": "06e90fc1-7d3c-460e-da16-5222b375db5b"
      },
      "execution_count": 22,
      "outputs": [
        {
          "output_type": "execute_result",
          "data": {
            "text/plain": [
              "0      1.977770\n",
              "1      1.923205\n",
              "2      1.761687\n",
              "3      1.761687\n",
              "4      1.761687\n",
              "         ...   \n",
              "738    1.923205\n",
              "739    1.923205\n",
              "740    1.907923\n",
              "741    1.761687\n",
              "742    1.761687\n",
              "Name: CarbonEmissions(lb-co2/h), Length: 743, dtype: float64"
            ]
          },
          "metadata": {},
          "execution_count": 22
        }
      ]
    },
    {
      "cell_type": "markdown",
      "source": [
        "**10. Save ML (Decision Tree)-based Prediction Model**"
      ],
      "metadata": {
        "id": "T76LHgyYuQo3"
      }
    },
    {
      "cell_type": "code",
      "source": [
        "filename = \"/content/drive/MyDrive/MIZZOU/DigitalTwin_AT&T/_2023_DigitalTwinCodes/20230225_DecisionTree_basedPrediction_Realtime_Final/DigitalTwin_DT.joblib\"\n",
        "joblib.dump(dt_regressor, filename)"
      ],
      "metadata": {
        "id": "w2YGMdgkub1P",
        "colab": {
          "base_uri": "https://localhost:8080/"
        },
        "outputId": "561139be-de70-4587-c9ed-82ed3252e073"
      },
      "execution_count": 23,
      "outputs": [
        {
          "output_type": "execute_result",
          "data": {
            "text/plain": [
              "['/content/drive/MyDrive/MIZZOU/DigitalTwin_AT&T/_2023_DigitalTwinCodes/20230225_DecisionTree_basedPrediction_Realtime_Final/DigitalTwin_DT.joblib']"
            ]
          },
          "metadata": {},
          "execution_count": 23
        }
      ]
    },
    {
      "cell_type": "markdown",
      "source": [
        "**11. Load ML-based Prediction Model and check prediction accuracy**"
      ],
      "metadata": {
        "id": "KAVV5m9gvAf2"
      }
    },
    {
      "cell_type": "code",
      "source": [
        "#Import prediction model\n",
        "prediction_model = joblib.load(filename)\n",
        "prediction_model\n",
        "\n",
        "#rerun the prediction after getting the new c and epsilon values\n",
        "y_pred = prediction_model.predict(X_test)\n",
        "WriteData = pd.DataFrame({'Physics-based Modeling Results in lb-CO2/kWh':y_test, 'Machine Learning-based Modeling Results in lb-CO2/kWh':y_pred})\n",
        "print(WriteData)\n",
        "\n",
        "#Accuracy check\n",
        "mae=metrics.mean_absolute_error(y_test, y_pred)\n",
        "mse=metrics.mean_squared_error(y_test, y_pred)\n",
        "rmse = np.sqrt(mse)\n",
        "R_square = metrics.r2_score(y_test, y_pred)\n",
        "# Printing the metrics\n",
        "print('R2 square:',R_square)\n",
        "print('MAE: ', mae)\n",
        "print('MSE: ', mse)\n",
        "print('RMSE: ', rmse)\n"
      ],
      "metadata": {
        "colab": {
          "base_uri": "https://localhost:8080/"
        },
        "id": "LId1kFulsf8n",
        "outputId": "37c36068-3249-4a28-ff0e-85cb7ce557ed"
      },
      "execution_count": 24,
      "outputs": [
        {
          "output_type": "stream",
          "name": "stdout",
          "text": [
            "     Physics-based Modeling Results in lb-CO2/kWh  \\\n",
            "661                                      2.095393   \n",
            "420                                      2.393312   \n",
            "558                                      1.761687   \n",
            "349                                      1.761687   \n",
            "611                                      1.935195   \n",
            "..                                            ...   \n",
            "604                                      1.761687   \n",
            "76                                       1.761687   \n",
            "587                                      2.393312   \n",
            "120                                      1.761687   \n",
            "72                                       1.761687   \n",
            "\n",
            "     Machine Learning-based Modeling Results in lb-CO2/kWh  \n",
            "661                                           2.095393      \n",
            "420                                           2.393312      \n",
            "558                                           1.761687      \n",
            "349                                           1.761687      \n",
            "611                                           1.935195      \n",
            "..                                                 ...      \n",
            "604                                           1.761687      \n",
            "76                                            1.761687      \n",
            "587                                           2.393312      \n",
            "120                                           1.761687      \n",
            "72                                            1.761687      \n",
            "\n",
            "[149 rows x 2 columns]\n",
            "R2 square: 0.9999948394424963\n",
            "MAE:  9.106218866643191e-05\n",
            "MSE:  3.8578671545027e-07\n",
            "RMSE:  0.0006211173121482527\n"
          ]
        }
      ]
    },
    {
      "cell_type": "code",
      "source": [
        "\n",
        "\n",
        "### Scatter plot\n",
        "\n",
        "# Create scatter plot of true vs predicted values\n",
        "scatter = sns.scatterplot(x='Physics-based Modeling Results in lb-CO2/kWh', y='Machine Learning-based Modeling Results in lb-CO2/kWh', data=WriteData)\n",
        "plt.show()\n",
        "\n",
        "# Create scatter plot of residuals\n",
        "residuals = y_test - y_pred\n",
        "scatter_residual = sns.scatterplot(x=y_pred, y=residuals)\n",
        "plt.show()\n",
        "\n",
        "### Residual Plot\n",
        "\n",
        "import seaborn as sns\n",
        "import matplotlib.pyplot as plt\n",
        "\n",
        "# Create a dataframe to hold the residuals\n",
        "residuals = y_test - y_pred\n",
        "residual_df = pd.DataFrame({'residuals': residuals, 'y_test': y_test})\n",
        "\n",
        "# Create the residual plot using seaborn\n",
        "sns.residplot(x='y_test', y='residuals', data=residual_df, color='blue')\n",
        "\n",
        "# Set the plot title and axis labels\n",
        "plt.title('Residual Plot')\n",
        "plt.xlabel('Actual Values')\n",
        "plt.ylabel('Residuals')\n",
        "plt.show()\n",
        "\n",
        "### Regression plot\n",
        "\n",
        "# Create scatter plot with regression line\n",
        "regression = sns.regplot(x='Physics-based Modeling Results in lb-CO2/kWh', y='Machine Learning-based Modeling Results in lb-CO2/kWh', data=WriteData)\n",
        "plt.show()\n",
        "\n",
        "### Correlation plot\n",
        "\n",
        "corr = WriteData.corr()\n",
        "sns.heatmap(corr, xticklabels=corr.columns, yticklabels=corr.columns, cmap=\"YlGnBu\")\n",
        "plt.show()\n",
        "\n"
      ],
      "metadata": {
        "colab": {
          "base_uri": "https://localhost:8080/",
          "height": 1000
        },
        "id": "KeOnXwtIrxST",
        "outputId": "7cd4f11f-817a-4ca3-9378-248162e9be49"
      },
      "execution_count": 25,
      "outputs": [
        {
          "output_type": "display_data",
          "data": {
            "text/plain": [
              "<Figure size 432x288 with 1 Axes>"
            ],
            "image/png": "[encoded data removed]"
          },
          "metadata": {
            "needs_background": "light"
          }
        },
        {
          "output_type": "display_data",
          "data": {
            "text/plain": [
              "<Figure size 432x288 with 1 Axes>"
            ],
            "image/png": "[encoded data removed]"
          },
          "metadata": {
            "needs_background": "light"
          }
        },
        {
          "output_type": "display_data",
          "data": {
            "text/plain": [
              "<Figure size 432x288 with 1 Axes>"
            ],
            "image/png": "[encoded data removed]"
          },
          "metadata": {
            "needs_background": "light"
          }
        },
        {
          "output_type": "display_data",
          "data": {
            "text/plain": [
              "<Figure size 432x288 with 1 Axes>"
            ],
            "image/png": "[encoded data removed]"
          },
          "metadata": {
            "needs_background": "light"
          }
        },
        {
          "output_type": "display_data",
          "data": {
            "text/plain": [
              "<Figure size 432x288 with 2 Axes>"
            ],
            "image/png": "[encoded data removed]"
          },
          "metadata": {
            "needs_background": "light"
          }
        }
      ]
    },
    {
      "cell_type": "code",
      "source": [
        "# # Create the subplots\n",
        "# fig, axs = plt.subplots(nrows=1, ncols=4, figsize=(25,5))\n",
        "\n",
        "# # Scatter plot\n",
        "# sns.scatterplot(x='Physics-based Modeling Results in lb-CO2/kWh', y='Machine Learning-based Modeling Results in lb-CO2/kWh', data=WriteData, ax=axs[0], color='#00B0F0')\n",
        "# axs[0].set_title('Scatter Plot')\n",
        "\n",
        "# # Residual plot\n",
        "# sns.residplot(x='y_test', y='residuals', data=residual_df, color='#00B0F0', ax=axs[1])\n",
        "# axs[1].set_title('Residual Plot')\n",
        "\n",
        "# # Regression plot\n",
        "# #sns.regplot(x='Physics-based Modeling Results in lb-CO2/kWh', y='Machine Learning-based Modeling Results in lb-CO2/kWh', data=WriteData, ax=axs[2], color='red')\n",
        "# sns.regplot(x='Physics-based Modeling Results in lb-CO2/kWh', y='Machine Learning-based Modeling Results in lb-CO2/kWh', data=WriteData, ax=axs[2], color='red', scatter_kws={'color':'#00B0F0'})\n",
        "\n",
        "# axs[2].set_title('Regression Plot')\n",
        "\n",
        "# # Residuals vs predicted plot\n",
        "# sns.scatterplot(x=y_pred, y=residuals, color='#00B0F0', ax=axs[3])\n",
        "# axs[3].axhline(y=0, color='red', linestyle='--')\n",
        "# axs[3].set_title('Residuals vs Predicted Plot')\n",
        "\n",
        "# # Save the plot\n",
        "# plt.savefig('four_plots.png')\n",
        "\n",
        "# # Show the plot\n",
        "# plt.show()\n"
      ],
      "metadata": {
        "colab": {
          "base_uri": "https://localhost:8080/",
          "height": 350
        },
        "id": "oNYkjQrTogWw",
        "outputId": "91ef1b67-e74a-416f-b80b-b139f49d54e8"
      },
      "execution_count": 26,
      "outputs": [
        {
          "output_type": "display_data",
          "data": {
            "text/plain": [
              "<Figure size 1800x360 with 4 Axes>"
            ],
            "image/png": "[encoded data removed]"
          },
          "metadata": {
            "needs_background": "light"
          }
        }
      ]
    },
    {
      "cell_type": "code",
      "source": [
        "# Set figure size\n",
        "plt.figure(figsize=(10, 8))\n",
        "\n",
        "# Create the regression plot with comparison line\n",
        "sns.regplot(x='Physics-based Modeling Results in lb-CO2/kWh', y='Machine Learning-based Modeling Results in lb-CO2/kWh', data=WriteData, color='red', line_kws={'color': 'blue', 'linestyle': '--'})\n",
        "\n",
        "# Add title and axis labels\n",
        "plt.title('Comparison between physics-based simulation and ML-based simulation results')\n",
        "plt.xlabel('Physics-based Modeling Results in lb-CO2/kWh')\n",
        "plt.ylabel('Machine Learning-based Modeling Results in lb-CO2/kWh')\n",
        "\n",
        "# Add legend\n",
        "plt.legend(labels=['Physics-based simulation results', 'ML-based simulation results'])\n",
        "\n",
        "# Show the plot\n",
        "plt.show()\n",
        "\n"
      ],
      "metadata": {
        "id": "uR2TmtNrZyYD"
      },
      "execution_count": null,
      "outputs": []
    }
  ]
}